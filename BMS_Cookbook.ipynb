{
  "nbformat": 4,
  "nbformat_minor": 0,
  "metadata": {
    "colab": {
      "provenance": [],
      "include_colab_link": true
    },
    "kernelspec": {
      "name": "python3",
      "display_name": "Python 3"
    },
    "language_info": {
      "name": "python"
    }
  },
  "cells": [
    {
      "cell_type": "markdown",
      "metadata": {
        "id": "view-in-github",
        "colab_type": "text"
      },
      "source": [
        "<a href=\"https://colab.research.google.com/github/mugalan/energy-plus-utility/blob/dev/BMS_Cookbook.ipynb\" target=\"_parent\"><img src=\"https://colab.research.google.com/assets/colab-badge.svg\" alt=\"Open In Colab\"/></a>"
      ]
    },
    {
      "cell_type": "markdown",
      "source": [
        "#Install"
      ],
      "metadata": {
        "id": "HinVmhpQ8C8H"
      }
    },
    {
      "cell_type": "code",
      "source": [
        "# install from your dev branch\n",
        "!pip install -q \"energy-plus-utility @ git+https://github.com/mugalan/energy-plus-utility.git@dev\""
      ],
      "metadata": {
        "id": "i4ebX82G8Fuy"
      },
      "execution_count": null,
      "outputs": []
    },
    {
      "cell_type": "code",
      "source": [
        "# run the silent bootstrap in this kernel\n",
        "from eplus import prepare_colab_eplus\n",
        "prepare_colab_eplus()  # raises on failure, otherwise silent\n",
        "\n",
        "# now your imports work\n",
        "from eplus import EPlusUtil, EPlusSqlExplorer"
      ],
      "metadata": {
        "id": "0CDOCrww8Mpu"
      },
      "execution_count": null,
      "outputs": []
    },
    {
      "cell_type": "markdown",
      "source": [
        "## Initialize class"
      ],
      "metadata": {
        "id": "d-Mjn8sxAHDW"
      }
    },
    {
      "cell_type": "code",
      "source": [
        "import subprocess, json, pathlib, os\n",
        "import pandas as pd\n",
        "EPLUS = str(pathlib.Path.home() / \"EnergyPlus-25-1-0\")\n",
        "EPLUS_ROOT = \"/root/EnergyPlus-25-1-0\"\n",
        "\n",
        "out_dir = \"/content/eplus_out\"\n",
        "idf = f\"{EPLUS}/ExampleFiles/5ZoneAirCooled.idf\"\n",
        "epw = f\"{EPLUS}/WeatherData/USA_CA_San.Francisco.Intl.AP.724940_TMY3.epw\"\n",
        "\n",
        "util = EPlusUtil(verbose=1, out_dir = out_dir)\n",
        "util.delete_out_dir()\n",
        "util.set_model(idf,epw)\n",
        "state = util.api.state_manager.new_state()\n",
        "util.ensure_output_sqlite()"
      ],
      "metadata": {
        "id": "diGPKAjDAuqO"
      },
      "execution_count": null,
      "outputs": []
    },
    {
      "cell_type": "markdown",
      "source": [
        "## *Optional:* Convert the model to .json"
      ],
      "metadata": {
        "id": "5Hk3A_J9smhH"
      }
    },
    {
      "cell_type": "code",
      "source": [
        "idf_path = pathlib.Path(idf)\n",
        "converter = os.path.join(EPLUS_ROOT, \"ConvertInputFormat\")   # on Windows it's ConvertInputFormat.exe\n",
        "\n",
        "# Convert IDF → epJSON (outputs 5ZoneAirCooled.epJSON in the same folder)\n",
        "subprocess.run([converter, str(idf_path)], check=True)\n",
        "\n",
        "epjson_path = idf_path.with_suffix(\".epJSON\")\n",
        "print(\"epJSON exists?\", epjson_path.exists(), epjson_path)"
      ],
      "metadata": {
        "id": "GJeqGksrssQw"
      },
      "execution_count": null,
      "outputs": []
    },
    {
      "cell_type": "markdown",
      "source": [
        "## Simulations"
      ],
      "metadata": {
        "id": "u2JguV_ItYKd"
      }
    },
    {
      "cell_type": "markdown",
      "source": [
        "###Dry run to create tables etc."
      ],
      "metadata": {
        "id": "Nk5bRqjgtwSZ"
      }
    },
    {
      "cell_type": "code",
      "source": [
        "util = EPlusUtil(verbose=1)\n",
        "util.delete_out_dir()\n",
        "util.set_model(idf,epw)\n",
        "util.ensure_output_sqlite()\n",
        "util.dry_run_min(include_ems_edd=False)"
      ],
      "metadata": {
        "id": "8V708h-kRrmN"
      },
      "execution_count": null,
      "outputs": []
    },
    {
      "cell_type": "code",
      "source": [
        "util.list_zone_names()"
      ],
      "metadata": {
        "id": "6_9mtGOLEIZG"
      },
      "execution_count": null,
      "outputs": []
    },
    {
      "cell_type": "code",
      "source": [
        "pd.DataFrame(util.list_variables_safely())"
      ],
      "metadata": {
        "id": "_7o7JoOeBQXA"
      },
      "execution_count": null,
      "outputs": []
    },
    {
      "cell_type": "code",
      "source": [
        "pd.DataFrame(util.list_actuators_safely())"
      ],
      "metadata": {
        "id": "zUqtrmx17I90"
      },
      "execution_count": null,
      "outputs": []
    },
    {
      "cell_type": "markdown",
      "source": [
        "## Setup Simulation"
      ],
      "metadata": {
        "id": "3xcUQXuMA-yQ"
      }
    },
    {
      "cell_type": "markdown",
      "source": [
        "### Enable Varaibles and Meters"
      ],
      "metadata": {
        "id": "ZnR8tEtdBFQC"
      }
    },
    {
      "cell_type": "code",
      "source": [
        "util.ensure_output_variables([\n",
        "    # {\"name\":\"Site Outdoor Air Drybulb Temperature\", \"key\":\"\", \"freq\":\"TimeStep\"},\n",
        "    # {\"name\":\"Site Outdoor Air Dewpoint Temperature\", \"key\":\"\", \"freq\":\"TimeStep\"},\n",
        "    # {\"name\":\"Site Wind Speed\", \"key\":\"\", \"freq\":\"TimeStep\"},\n",
        "    # {\"name\":\"Site Diffuse Solar Radiation Rate per Area\", \"key\":\"\", \"freq\":\"TimeStep\"},\n",
        "    # {\"name\":\"Site Direct Solar Radiation Rate per Area\", \"key\":\"\", \"freq\":\"TimeStep\"},\n",
        "    {'name':'Zone Mean Air Temperature',          'key':'*',           'freq':'TimeStep'},\n",
        "    {'name':'Zone Mean Air Dewpoint Temperature', 'key':'*',           'freq':'TimeStep'},\n",
        "    {'name':'Zone Air Relative Humidity',          'key':'*',           'freq':'TimeStep'},\n",
        "    {'name':'Zone People Occupant Count',         'key':'*',           'freq':'TimeStep'},\n",
        "    {'name':'Site Outdoor Air Drybulb Temperature','key':'Environment','freq':'TimeStep'},\n",
        "    {'name':'Site Outdoor Air Wetbulb Temperature','key':'Environment','freq':'TimeStep'},\n",
        "    {\"name\":\"Zone Air System Sensible Cooling Energy\", \"key\":\"*\", \"freq\":\"TimeStep\"},\n",
        "    {\"name\":\"Zone Total Internal Latent Gain Energy\", \"key\":\"*\", \"freq\":\"TimeStep\"},\n",
        "    {\"name\": \"Zone Air CO2 Concentration\", \"key\": \"*\", \"freq\": \"TimeStep\"}\n",
        "    # {\"name\":\"Zone Air System Sensible Cooling Energy\", \"key\":\"SPACE2-1\", \"freq\":\"TimeStep\"},\n",
        "    # {\"name\":\"Zone Air System Sensible Cooling Energy\", \"key\":\"SPACE3-1\", \"freq\":\"TimeStep\"},\n",
        "    # {\"name\":\"Zone Air System Sensible Cooling Energy\", \"key\":\"SPACE4-1\", \"freq\":\"TimeStep\"},\n",
        "    # {\"name\":\"Zone Air System Sensible Cooling Energy\", \"key\":\"SPACE5-1\", \"freq\":\"TimeStep\"},\n",
        "], activate=True)\n"
      ],
      "metadata": {
        "id": "U98hOuGt4U4G"
      },
      "execution_count": null,
      "outputs": []
    },
    {
      "cell_type": "code",
      "source": [
        "# 1) Ensure the meter(s) you want are reported\n",
        "output_meteres = [\"InteriorLights:Electricity:Zone:SPACE5-1\",\"Cooling:EnergyTransfer:Zone:SPACE1-1\",\"Cooling:EnergyTransfer\",\"Electricity:Facility\",\"ElectricityPurchased:Facility\", \"ElectricitySurplusSold:Facility\"]\n",
        "\n",
        "util.ensure_output_meters(output_meteres, freq=\"TimeStep\")\n"
      ],
      "metadata": {
        "id": "jdbTfW9IB5n1"
      },
      "execution_count": null,
      "outputs": []
    },
    {
      "cell_type": "markdown",
      "source": [
        "### Run Simulation"
      ],
      "metadata": {
        "id": "Xza9EqdqHyc0"
      }
    },
    {
      "cell_type": "code",
      "source": [
        "util = EPlusUtil(verbose=1)\n",
        "util.delete_out_dir()\n",
        "util.set_model(idf,epw, outdoor_co2_ppm=0.0, per_person_m3ps_per_W=0.0) #3.82e-08)\n",
        "# util.prepare_annual_run_with_co2()\n",
        "# util.ensure_output_variables([\n",
        "#     # {\"name\":\"Site Outdoor Air Drybulb Temperature\", \"key\":\"\", \"freq\":\"TimeStep\"},\n",
        "#     # {\"name\":\"Site Outdoor Air Dewpoint Temperature\", \"key\":\"\", \"freq\":\"TimeStep\"},\n",
        "#     # {\"name\":\"Site Wind Speed\", \"key\":\"\", \"freq\":\"TimeStep\"},\n",
        "#     # {\"name\":\"Site Diffuse Solar Radiation Rate per Area\", \"key\":\"\", \"freq\":\"TimeStep\"},\n",
        "#     # {\"name\":\"Site Direct Solar Radiation Rate per Area\", \"key\":\"\", \"freq\":\"TimeStep\"},\n",
        "#     {'name':'Zone Mean Air Temperature',          'key':'*',           'freq':'TimeStep'},\n",
        "#     {'name':'Zone Mean Air Dewpoint Temperature', 'key':'*',           'freq':'TimeStep'},\n",
        "#     {'name':'Zone Air Relative Humidity',          'key':'*',           'freq':'TimeStep'},\n",
        "#     {'name':'Zone People Occupant Count',         'key':'*',           'freq':'TimeStep'},\n",
        "#     {'name':'Site Outdoor Air Drybulb Temperature','key':'Environment','freq':'TimeStep'},\n",
        "#     {'name':'Site Outdoor Air Wetbulb Temperature','key':'Environment','freq':'TimeStep'},\n",
        "#     {\"name\":\"Zone Air System Sensible Cooling Energy\", \"key\":\"*\", \"freq\":\"TimeStep\"},\n",
        "#     {\"name\":\"Zone Total Internal Latent Gain Energy\", \"key\":\"*\", \"freq\":\"TimeStep\"},\n",
        "#     {\"name\": \"Zone Air CO2 Concentration\", \"key\": \"*\", \"freq\": \"TimeStep\"},\n",
        "#     {\"name\": \"Zone Outdoor Air Inlet Mass Flow Rate\", \"key\": \"*\", \"freq\": \"TimeStep\"},\n",
        "#     {\"name\": \"System Node Standard Density Volume Flow Rate\", \"key\": \"*\", \"freq\": \"TimeStep\"},\n",
        "#     # {\"name\":\"Zone Air System Sensible Cooling Energy\", \"key\":\"SPACE2-1\", \"freq\":\"TimeStep\"},\n",
        "#     # {\"name\":\"Zone Air System Sensible Cooling Energy\", \"key\":\"SPACE3-1\", \"freq\":\"TimeStep\"},\n",
        "#     # {\"name\":\"Zone Air System Sensible Cooling Energy\", \"key\":\"SPACE4-1\", \"freq\":\"TimeStep\"},\n",
        "#     # {\"name\":\"Zone Air System Sensible Cooling Energy\", \"key\":\"SPACE5-1\", \"freq\":\"TimeStep\"},\n",
        "# ], activate=True)\n",
        "# 1) Make sure SQL will be produced\n",
        "# util.ensure_output_sqlite(activate=True)\n",
        "\n",
        "# 2) Variables to record (TimeStep)\n",
        "specs = [\n",
        "    # --- Zone state + people ---\n",
        "    {\"name\": \"Zone Mean Air Temperature\",                \"key\": \"*\",            \"freq\": \"TimeStep\"},\n",
        "    {\"name\": \"Zone Mean Air Dewpoint Temperature\",       \"key\": \"*\",            \"freq\": \"TimeStep\"},\n",
        "    {\"name\": \"Zone Air Relative Humidity\",               \"key\": \"*\",            \"freq\": \"TimeStep\"},\n",
        "    {\"name\": \"Zone People Occupant Count\",               \"key\": \"*\",            \"freq\": \"TimeStep\"},\n",
        "\n",
        "    # --- CO₂ & OA into zones ---\n",
        "    {\"name\": \"Zone Air CO2 Concentration\",               \"key\": \"*\",            \"freq\": \"TimeStep\"},\n",
        "    {\"name\": \"Zone Outdoor Air Inlet Mass Flow Rate\",    \"key\": \"*\",            \"freq\": \"TimeStep\"},\n",
        "\n",
        "    # --- Air system OA (scalar, per air loop) ---\n",
        "    {\"name\": \"Air System Outdoor Air Mass Flow Rate\",    \"key\": \"\",             \"freq\": \"TimeStep\"},\n",
        "    {\"name\": \"Air System Outdoor Air Flow Fraction\",     \"key\": \"\",             \"freq\": \"TimeStep\"},\n",
        "\n",
        "    # --- Nodes (use * for all; swap to explicit node names if you prefer) ---\n",
        "    {\"name\": \"System Node Mass Flow Rate\",               \"key\": \"*\",            \"freq\": \"TimeStep\"},\n",
        "    {\"name\": \"System Node Standard Density Volume Flow Rate\", \"key\": \"*\",       \"freq\": \"TimeStep\"},\n",
        "\n",
        "    # --- Infiltration (per zone) ---\n",
        "    {\"name\": \"Zone Infiltration Standard Density Volume Flow Rate\", \"key\": \"*\", \"freq\": \"TimeStep\"},\n",
        "\n",
        "    # --- Site weather (Environment key) ---\n",
        "    {\"name\": \"Site Outdoor Air Drybulb Temperature\",     \"key\": \"Environment\",  \"freq\": \"TimeStep\"},\n",
        "    {\"name\": \"Site Outdoor Air Wetbulb Temperature\",     \"key\": \"Environment\",  \"freq\": \"TimeStep\"},\n",
        "]\n",
        "\n",
        "# 3) Ensure the Output:Variable objects exist (dedup-aware)\n",
        "util.ensure_output_variables(specs, activate=True)\n",
        "\n",
        "util.ensure_output_sqlite()\n",
        "util.verbose = 1\n",
        "util.enable_runtime_logging()\n",
        "# util.register_begin_iteration([\"occupancy_counter\"], clear=True)\n",
        "util.register_begin_iteration([\n",
        "    {\"method_name\": \"occupancy_counter\",\n",
        "     \"key_wargs\": {\"lam\": 25.0, \"min\": 24, \"max\": 27, \"seed\": 123}}\n",
        "], clear=True, run_during_warmup=False)\n",
        "# # register JUST this one method to start\n",
        "# util.register_begin_iteration([\n",
        "#     {\"method_name\": \"co2_set_outdoor_ppm_simple\",\n",
        "#      \"key_wargs\": {\"value_ppm\": 0.0, \"log_every_minutes\": 60, \"verify\": True}}\n",
        "# ], clear=True, run_during_warmup=False)\n",
        "# util.register_begin_iteration([\n",
        "#     {\"method_name\": \"co2_set_outdoor_ppm_debug\",\n",
        "#      \"key_wargs\": {\"value_ppm\": 0.0}}\n",
        "# ], clear=True, run_during_warmup=True)  # run during warmup so you see output throughout\n",
        "util.register_begin_iteration([\n",
        "    {\"method_name\": \"co2_set_outdoor_ppm\",\n",
        "     \"key_wargs\": {\"value_ppm\": 400.0, \"log_every_minutes\": None, \"verify\": True}}\n",
        "], clear=True, run_during_warmup=False)\n",
        "rc=util.run_annual()"
      ],
      "metadata": {
        "id": "7aAeA07ulT32"
      },
      "execution_count": null,
      "outputs": []
    },
    {
      "cell_type": "markdown",
      "source": [
        "### Table Inspect"
      ],
      "metadata": {
        "id": "eqj23tiEvSHx"
      }
    },
    {
      "cell_type": "code",
      "source": [
        "xp = EPlusSqlExplorer(f\"{out_dir}/eplusout.sql\")"
      ],
      "metadata": {
        "id": "XBUyMDrIvUu7"
      },
      "execution_count": null,
      "outputs": []
    },
    {
      "cell_type": "code",
      "source": [
        "xp.list_tables()"
      ],
      "metadata": {
        "id": "B3efRcS_v_jC"
      },
      "execution_count": null,
      "outputs": []
    },
    {
      "cell_type": "markdown",
      "source": [
        "### Analyze weather data"
      ],
      "metadata": {
        "id": "bu8DvighZhqZ"
      }
    },
    {
      "cell_type": "code",
      "source": [
        "# util.ensure_output_sqlite()\n",
        "site_vars = [\n",
        "    \"Site Outdoor Air Drybulb Temperature\",\n",
        "    \"Site Outdoor Air Dewpoint Temperature\",\n",
        "    \"Site Outdoor Air Humidity Ratio\",\n",
        "    \"Site Outdoor Air Barometric Pressure\",\n",
        "    \"Site Wind Speed\",\n",
        "    \"Site Wind Direction\",\n",
        "    \"Site Diffuse Solar Radiation Rate per Area\",\n",
        "    \"Site Direct Solar Radiation Rate per Area\",\n",
        "    \"Site Horizontal Infrared Radiation Rate per Area\",\n",
        "    \"Site Sky Temperature\",\n",
        "]\n",
        "util.ensure_output_sqlite()\n",
        "util.ensure_output_variables(\n",
        "    [{'name': v, 'key': 'Environment', 'freq': 'TimeStep'} for v in site_vars]\n",
        ")\n",
        "util.run_annual()"
      ],
      "metadata": {
        "id": "UHT_O9VMkcbQ"
      },
      "execution_count": null,
      "outputs": []
    },
    {
      "cell_type": "code",
      "source": [
        "util.export_weather_sql_to_csv()"
      ],
      "metadata": {
        "id": "grYl7tD9aWVZ"
      },
      "execution_count": null,
      "outputs": []
    },
    {
      "cell_type": "code",
      "source": [
        "weather_df=pd.read_csv('eplus_out/weather_timeseries.csv')\n",
        "weather_df['timestamp'] = pd.to_datetime(weather_df['timestamp'])\n",
        "weather_df['month'] = weather_df['timestamp'].dt.month"
      ],
      "metadata": {
        "id": "O4BMbdMYlZe4"
      },
      "execution_count": null,
      "outputs": []
    },
    {
      "cell_type": "code",
      "source": [
        "weather_df"
      ],
      "metadata": {
        "id": "R1Aes_5SlqXm"
      },
      "execution_count": null,
      "outputs": []
    },
    {
      "cell_type": "code",
      "metadata": {
        "id": "915f2e0c"
      },
      "source": [
        "import numpy as np\n",
        "from scipy.stats import norm, lognorm, gamma\n",
        "import plotly.graph_objects as go\n",
        "from plotly.subplots import make_subplots\n",
        "\n",
        "# Extract the temperature data\n",
        "variable='Site Outdoor Air Humidity Ratio [kgWater/kgDryAir]'#'Site Outdoor Air Dewpoint Temperature [C]' #'Site Outdoor Air Drybulb Temperature [C]' #\n",
        "n=9\n",
        "data_df = weather_df[weather_df['month']==n]\n",
        "data = data_df[variable]\n",
        "\n",
        "# Fit a normal distribution to the data:\n",
        "mu, std = norm.fit(data)\n",
        "\n",
        "# Create the histogram trace from the previous plot\n",
        "counts, bin_edges = np.histogram(data, bins=50) # Adjust bin count as needed\n",
        "bin_centers = 0.5 * (bin_edges[:-1] + bin_edges[1:])\n",
        "\n",
        "histogram_trace = go.Bar(x=bin_centers, y=counts, name='Histogram', opacity=0.7)\n",
        "\n",
        "# Create the Gaussian curve trace\n",
        "xmin, xmax = data.min(), data.max()\n",
        "x_norm = np.linspace(xmin, xmax, 100)\n",
        "p_norm = norm.pdf(x_norm, mu, std)\n",
        "\n",
        "# Scale the PDF to match the histogram's count scale\n",
        "bin_width = bin_edges[1] - bin_edges[0]\n",
        "scaled_pdf_norm = p_norm * len(data) * bin_width\n",
        "\n",
        "gaussian_trace = go.Scatter(x=x_norm, y=scaled_pdf_norm, mode='lines', name=f'Gaussian Fit (μ={mu:.2f}, σ={std:.2f})', line=dict(color='red', width=2))\n",
        "\n",
        "# Fit Log-Normal distribution\n",
        "# Log-normal distribution requires positive data. Since temperature can be negative,\n",
        "# a simple log-normal fit might not be appropriate directly.\n",
        "# However, for demonstration, we can fit it to the positive part or shift the data.\n",
        "# Let's fit it to the original data, understanding the limitations if negative values exist.\n",
        "# We need to be careful if temperature_data contains zero or negative values for lognorm fit.\n",
        "# For simplicity, we'll add an offset if there are non-positive values.\n",
        "offset = 0\n",
        "if (data <= 0).any():\n",
        "    offset = -data.min() + 1 # Shift data to be positive\n",
        "    print(f\"Shifting data by {offset:.2f} for Log-Normal fit to ensure positivity.\")\n",
        "\n",
        "shape_lognorm, loc_lognorm, scale_lognorm = lognorm.fit(data + offset)\n",
        "\n",
        "# Generate points for the fitted Log-Normal curve\n",
        "# Ensure the x range is appropriate for the shifted data\n",
        "x_lognorm = np.linspace(data.min() + offset, data.max() + offset, 100)\n",
        "p_lognorm = lognorm.pdf(x_lognorm, shape_lognorm, loc_lognorm, scale_lognorm)\n",
        "\n",
        "# Scale the PDF and shift x back for plotting\n",
        "scaled_pdf_lognorm = p_lognorm * len(data) * bin_width\n",
        "x_lognorm_unshifted = x_lognorm - offset\n",
        "\n",
        "lognormal_trace = go.Scatter(x=x_lognorm_unshifted, y=scaled_pdf_lognorm, mode='lines', name=f'Log-Normal Fit', line=dict(color='green', width=2))\n",
        "\n",
        "\n",
        "# Fit Gamma distribution\n",
        "# Gamma distribution also typically requires positive data. Similar consideration as Log-Normal.\n",
        "# We'll fit it to the shifted data if an offset was applied for lognormal.\n",
        "shape_gamma, loc_gamma, scale_gamma = gamma.fit(data + offset)\n",
        "\n",
        "# Generate points for the fitted Gamma curve\n",
        "# Ensure the x range is appropriate for the shifted data\n",
        "x_gamma = np.linspace(data.min() + offset, data.max() + offset, 100)\n",
        "p_gamma = gamma.pdf(x_gamma, shape_gamma, loc_gamma, scale_gamma)\n",
        "\n",
        "# Scale the PDF and shift x back for plotting\n",
        "scaled_pdf_gamma = p_gamma * len(data) * bin_width\n",
        "x_gamma_unshifted = x_gamma - offset\n",
        "\n",
        "\n",
        "gamma_trace = go.Scatter(x=x_gamma_unshifted, y=scaled_pdf_gamma, mode='lines', name=f'Gamma Fit', line=dict(color='purple', width=2))\n",
        "\n",
        "\n",
        "# Create the figure and add traces\n",
        "fig = go.Figure()\n",
        "fig.add_trace(histogram_trace)\n",
        "fig.add_trace(gaussian_trace)\n",
        "fig.add_trace(lognormal_trace)\n",
        "fig.add_trace(gamma_trace)\n",
        "\n",
        "\n",
        "# Update layout\n",
        "fig.update_layout(title=f'Distribution of {variable} with Distribution Fits',\n",
        "                  xaxis_title=variable,\n",
        "                  yaxis_title='Count',\n",
        "                  barmode='overlay' # Overlay bars to see fits better\n",
        "                 )\n",
        "\n",
        "# Show the plot\n",
        "fig.show()"
      ],
      "execution_count": null,
      "outputs": []
    },
    {
      "cell_type": "markdown",
      "source": [
        "### Plot Results"
      ],
      "metadata": {
        "id": "za_yN72iH3F8"
      }
    },
    {
      "cell_type": "code",
      "source": [
        "variable=\"Electricity:Facility\"\n",
        "util.api.exchange.get_meter_handle(util.state,variable)"
      ],
      "metadata": {
        "id": "evEHZFAF4Isr"
      },
      "execution_count": null,
      "outputs": []
    },
    {
      "cell_type": "code",
      "source": [
        "variable = \"Site Wind Direction\"     # units: deg\n",
        "key = 'Environment'                   # site variables use\n",
        "\n",
        "wd_handle = {\"h\": -1}\n",
        "\n",
        "def after_warmup(s):\n",
        "    # ask E+ to make this variable available\n",
        "    try:\n",
        "        util.api.exchange.request_variable(s, variable, key)\n",
        "    except Exception:\n",
        "        pass\n",
        "    # get the handle once\n",
        "    wd_handle[\"h\"] = util.api.exchange.get_variable_handle(s, variable, key)\n",
        "\n",
        "def on_tick(s):\n",
        "    if util.api.exchange.warmup_flag(s):\n",
        "        return\n",
        "    h = wd_handle[\"h\"]\n",
        "    if h != -1:\n",
        "        val = util.api.exchange.get_variable_value(s, h)\n",
        "        # do something with val (float degrees)\n",
        "        print(\"Wind dir =\", val)\n",
        "\n",
        "util.reset_state()\n",
        "util.api.runtime.callback_after_new_environment_warmup_complete(util.state, after_warmup)\n",
        "util.api.runtime.callback_begin_system_timestep_before_predictor(util.state, on_tick)\n",
        "util.api.runtime.run_energyplus(util.state, ['-w', util.epw, '-d', util.out_dir, util.idf])"
      ],
      "metadata": {
        "id": "8ZPfU4Fp5wgX"
      },
      "execution_count": null,
      "outputs": []
    },
    {
      "cell_type": "code",
      "source": [
        "pd.DataFrame(util.flatten_mtd())"
      ],
      "metadata": {
        "id": "csQSEgo1oCIh"
      },
      "execution_count": null,
      "outputs": []
    },
    {
      "cell_type": "code",
      "source": [
        "variable=\"Zone Air CO2 Concentration\" #\"Zone Air CO2 Concentration\" #\"Zone Air Relative Humidity\" #\"Zone Air Temperature\"\n",
        "# 4) discover keys and plot\n",
        "display(util.list_sql_zone_variables(name=variable).head(10))\n",
        "\n",
        "zone_fig=util.plot_sql_zone_variable(\n",
        "    variable,\n",
        "    keys=[\"SPACE1-1\",\"SPACE2-1\",\"SPACE3-1\",\"SPACE4-1\",\"SPACE5-1\",\"PLENUM-1\"],\n",
        "    resample=\"1h\",\n",
        "    title=f\"{variable} (Hourly Mean)\"\n",
        ")"
      ],
      "metadata": {
        "id": "p1coi0w0dn5b"
      },
      "execution_count": null,
      "outputs": []
    },
    {
      "cell_type": "code",
      "source": [
        "util.plot_sql_series([\n",
        "    # {\"kind\":\"var\",\"name\":\"Zone Air CO2 Concentration\",\"key\":\"SPACE1-1\",\"label\":\"CO2 SPACE1-1\"},\n",
        "    {\"kind\":\"var\",\"name\":\"Air System Outdoor Air Mass Flow Rate\",\"key\":\"*\",\"label\":\"OA ṁ SPACE1-1\"},\n",
        "    # system-level node is also helpful (replace with your OA node key if different):\n",
        "    {\"kind\":\"var\",\"name\":\"System Node Mass Flow Rate\",\"key\":\"*\",\"label\":\"OA node V̇\"},\n",
        "], reporting_freq=(\"TimeStep\",\"Hourly\"), resample=\"15min\", meters_to_kwh=False)"
      ],
      "metadata": {
        "id": "vuqpQ7C7WfDu"
      },
      "execution_count": null,
      "outputs": []
    },
    {
      "cell_type": "code",
      "source": [
        "# What “Zone … Outdoor Air …” style vars exist?\n",
        "util.list_sql_zone_variables(like=\"Zone %Outdoor Air%\")\n",
        "\n",
        "# Node-based flow variables (system-level). Then skim keys that look like OA nodes.\n",
        "util.list_sql_zone_variables(name=\"System Node Mass Flow Rate\")\n",
        "util.list_sql_zone_variables(name=\"System Node Standard Density Volume Flow Rate\")\n",
        "\n",
        "# Controller/airloop scalar:\n",
        "util.list_sql_zone_variables(name=\"Air System Outdoor Air Flow Fraction\")\n"
      ],
      "metadata": {
        "id": "o-ezeDqZb7Ce"
      },
      "execution_count": null,
      "outputs": []
    },
    {
      "cell_type": "code",
      "source": [
        "# generates variables_only.csv in out_dir and returns rows\n",
        "rows = util.list_variables_safely(kinds=\"var\", save_csv=True)\n",
        "\n",
        "# quick filter in-Python for likely OA/ventilation signals\n",
        "needles = (\"outdoor air\", \"ventilation\", \"ideal loads outdoor air\",\n",
        "           \"system node mass flow rate\", \"standard density volume flow rate\",\n",
        "           \"zone inlet\", \"oa flow\", \"oa mass flow\", \"mixing box\", \"economizer\")\n",
        "cand = [r for r in rows if any(k in r[\"name\"].lower() for k in needles)]\n",
        "len(cand), sorted({r[\"name\"] for r in cand})[:40]\n"
      ],
      "metadata": {
        "id": "rkDaCgyicnO4"
      },
      "execution_count": null,
      "outputs": []
    },
    {
      "cell_type": "code",
      "source": [
        "# Airloop scalar (look at keys to know what to plot)\n",
        "util.list_sql_zone_variables(name=\"Air System Outdoor Air Mass Flow Rate\")\n",
        "\n",
        "# Node-based (grab OA-ish node keys)\n",
        "util.list_sql_zone_variables(name=\"System Node Mass Flow Rate\")\n",
        "\n",
        "# Zone terminal OA (terminal names)\n",
        "util.list_sql_zone_variables(name=\"Zone Air Terminal Outdoor Air Volume Flow Rate\")\n",
        "\n",
        "# Zone infiltration (zone names)\n",
        "util.list_sql_zone_variables(name=\"Zone Infiltration Standard Density Volume Flow Rate\")\n"
      ],
      "metadata": {
        "id": "n0OOntAyc8W3"
      },
      "execution_count": null,
      "outputs": []
    },
    {
      "cell_type": "code",
      "source": [
        "util.list_sql_zone_variables(name=\"Air System Outdoor Air Mass Flow Rate\")"
      ],
      "metadata": {
        "id": "Tzy0fJzmeBVY"
      },
      "execution_count": null,
      "outputs": []
    },
    {
      "cell_type": "code",
      "source": [
        "# 3) See what meters actually have rows\n",
        "for m in output_meteres:\n",
        "    display(util.inspect_sql_meter(m, include_design_days=True))\n",
        "\n",
        "# 4) Plot site electricity (facility)\n",
        "elect_fig=util.plot_sql_meters(\n",
        "    output_meteres,\n",
        "    reporting_freq=(\"TimeStep\",\"Hourly\"),\n",
        "    include_design_days=False,\n",
        "    resample=\"1h\",               # sum to hourly kWh\n",
        "    meters_to_kwh=True,\n",
        "    title=f\"{', '.join(output_meteres)}\"\n",
        ")\n",
        "\n",
        "# (optional) Net purchased if you enabled those two meters:\n",
        "# elect_purchased=util.plot_sql_net_purchased_electricity(resample=\"1h\")"
      ],
      "metadata": {
        "id": "VIxBxCXGik7t"
      },
      "execution_count": null,
      "outputs": []
    },
    {
      "cell_type": "code",
      "source": [
        "occ_keys = (\n",
        "    util.list_sql_zone_variables(\n",
        "        name='Zone People Occupant Count',\n",
        "        reporting_freq=None,              # don't filter; show all\n",
        "        include_design_days=False\n",
        "    )['KeyValue']\n",
        "    .dropna().astype(str).tolist()\n",
        ")"
      ],
      "metadata": {
        "id": "HP7MQ7WwA60V"
      },
      "execution_count": null,
      "outputs": []
    },
    {
      "cell_type": "code",
      "source": [
        "occ_keys = (\n",
        "    util.list_sql_zone_variables(\n",
        "        name='Zone People Occupant Count',\n",
        "        reporting_freq=None,              # don't filter; show all\n",
        "        include_design_days=False\n",
        "    )['KeyValue']\n",
        "    .dropna().astype(str).tolist()\n",
        ")\n",
        "occ_keys"
      ],
      "metadata": {
        "id": "m0rBkQH-A8YU"
      },
      "execution_count": null,
      "outputs": []
    },
    {
      "cell_type": "code",
      "source": [
        "# 1) discover the exact zone keys present for the occupancy variable\n",
        "occ_keys = (\n",
        "    util.list_sql_zone_variables(\n",
        "        name='Zone People Occupant Count',\n",
        "        reporting_freq=None,              # don't filter; show all\n",
        "        include_design_days=False\n",
        "    )['KeyValue']\n",
        "    .dropna().astype(str).tolist()\n",
        ")\n",
        "\n",
        "# 2) build selections using those keys (so keys and zones match the DB)\n",
        "# output_sels = [\n",
        "#     {'kind':'var','name':'Zone Mean Air Temperature','key':k,'label':f'MAT: {k}'}\n",
        "#     for k in occ_keys\n",
        "# ] + [\n",
        "#     {'kind':'var','name':'Zone Air Relative Humidity','key':k,'label':f'ARH: {k}'}\n",
        "#     for k in occ_keys\n",
        "# ] +\n",
        "# output_sels =  [\n",
        "#     {'kind':'var','name':'Zone Air System Sensible Cooling Energy','key':k,'label':f'QSEN: {k}'}\n",
        "#     for k in occ_keys\n",
        "# ]\n",
        "# + [\n",
        "#     {'kind':'var','name':'Zone Total Internal Latent Gain Energy','key':k,'label':f'QLAT: {k}'}\n",
        "#     for k in occ_keys\n",
        "# ]\n",
        "output_sels = [\n",
        "    {'kind':'var','name':'Zone Air CO2 Concentration','key':k,'label':f'CO2: {k}'}\n",
        "    for k in occ_keys\n",
        "]\n",
        "\n",
        "control_sels = (\n",
        "    [{'kind':'var','name':'Zone People Occupant Count','key':k,'label':f'Occ: {k}'} for k in occ_keys]\n",
        "    # + [\n",
        "    #     {'kind':'var','name':'Site Outdoor Air Drybulb Temperature','key':'Environment','label':'OAT'},\n",
        "    #     {'kind':'var','name':'Site Outdoor Air Wetbulb Temperature','key':'Environment','label':'OWB'},\n",
        "    # ]\n",
        ")\n",
        "\n",
        "# 3) plot covariance (pull any freq; we resample to 1H anyway)\n",
        "fig = util.plot_sql_cov_heatmap(\n",
        "    control_sels=control_sels,\n",
        "    output_sels=output_sels,\n",
        "    reporting_freq=None,     # <- don't filter out Zone Timestep rows\n",
        "    resample='1h',           # compute cov on hourly series\n",
        "    reduce='mean',\n",
        "    stat='cov',              # or 'corr' if you want scale-free\n",
        "    min_periods=12,\n",
        "    include_design_days=False\n",
        ")"
      ],
      "metadata": {
        "id": "_F21kIhCuAFE"
      },
      "execution_count": null,
      "outputs": []
    },
    {
      "cell_type": "code",
      "source": [
        "occ_keys"
      ],
      "metadata": {
        "id": "GZMCyRi-7ScG"
      },
      "execution_count": null,
      "outputs": []
    },
    {
      "cell_type": "code",
      "source": [
        "# 1) discover zone keys that exist for the variable\n",
        "occ_keys = (\n",
        "    util.list_sql_zone_variables(\n",
        "        name='Zone People Occupant Count',\n",
        "        reporting_freq=None,            # don't filter; accept Zone Timestep, Hourly, etc.\n",
        "        include_design_days=False\n",
        "    )['KeyValue']\n",
        "    .dropna().astype(str).tolist()\n",
        ")\n",
        "\n",
        "# (optional) limit to first N zones\n",
        "# occ_keys = occ_keys[:8]\n",
        "\n",
        "# 2) build selections and plot\n",
        "selections = [\n",
        "    {'kind':'var', 'name':'Zone People Occupant Count', 'key':k, 'label':k}\n",
        "    for k in occ_keys\n",
        "]\n",
        "\n",
        "fig = util.plot_sql_series(\n",
        "    selections=selections,\n",
        "    reporting_freq=None,      # pull whatever is in the DB\n",
        "    resample='1h',            # average to hourly; set to None for native timestep\n",
        "    aggregate_vars='mean',    # hourly mean occupancy; use 'sum' for person-hours per hour\n",
        "    title='Occupant Count per Zone',\n",
        "    show=True\n",
        ")"
      ],
      "metadata": {
        "id": "iG4d63R_2QRU"
      },
      "execution_count": null,
      "outputs": []
    },
    {
      "cell_type": "code",
      "source": [
        "fig = util.plot_sql_series(\n",
        "    selections=output_sels,\n",
        "    reporting_freq=None,      # pull whatever is in the DB\n",
        "    resample='1h',            # average to hourly; set to None for native timestep\n",
        "    aggregate_vars='mean',    # hourly mean occupancy; use 'sum' for person-hours per hour\n",
        "    title='Occupant Count per Zone',\n",
        "    show=True\n",
        ")"
      ],
      "metadata": {
        "id": "ywROb2kVWuuU"
      },
      "execution_count": null,
      "outputs": []
    },
    {
      "cell_type": "markdown",
      "source": [
        "# SQLITE - Table Inspect"
      ],
      "metadata": {
        "id": "65eh8zAkpzIz"
      }
    },
    {
      "cell_type": "code",
      "source": [],
      "metadata": {
        "id": "BButozXiRoei"
      },
      "execution_count": null,
      "outputs": []
    },
    {
      "cell_type": "code",
      "source": [
        "xp.list_tables()"
      ],
      "metadata": {
        "id": "uCAEEo74LXOB"
      },
      "execution_count": null,
      "outputs": []
    },
    {
      "cell_type": "markdown",
      "source": [
        "# Documentation"
      ],
      "metadata": {
        "id": "8kM71uL2jhOn"
      }
    },
    {
      "cell_type": "markdown",
      "source": [
        "https://energyplus.net/assets/nrel_custom/pdfs/pdfs_v25.1.0/EngineeringReference.pdf"
      ],
      "metadata": {
        "id": "vYXi0kXsjkoy"
      }
    },
    {
      "cell_type": "markdown",
      "source": [
        "https://energyplus.net/assets/nrel_custom/pdfs/pdfs_v24.1.0/InputOutputReference.pdf"
      ],
      "metadata": {
        "id": "oon6UqzUjmRT"
      }
    },
    {
      "cell_type": "markdown",
      "source": [
        "# Sri Lanka Weather Data"
      ],
      "metadata": {
        "id": "1dKreA8c9tsj"
      }
    },
    {
      "cell_type": "markdown",
      "source": [
        "https://climate.onebuilding.org/WMO_Region_2_Asia/LKA_Sri_Lanka/index.html"
      ],
      "metadata": {
        "id": "QDa_0OnU9xcZ"
      }
    },
    {
      "cell_type": "markdown",
      "source": [
        "#HVAC Design"
      ],
      "metadata": {
        "id": "Jbg03qdxLvuB"
      }
    },
    {
      "cell_type": "markdown",
      "source": [
        "* https://www.mdpi.com/1996-1073/16/20/7124\n",
        "* https://www.mdpi.com/2071-1050/17/5/1955\n",
        "* https://discovery.ucl.ac.uk/id/eprint/10116413/1/manuscript%20baycal.pdf\n",
        "* https://arxiv.org/pdf/2508.09118#:~:text=Page%202,(7)\n",
        "* https://link.springer.com/article/10.1007/s12273-025-1300-4\n",
        "* https://www.mdpi.com/2075-5309/13/2/314?\n",
        "* (Bayes) https://www.sciencedirect.com/science/article/pii/S0306261925013017"
      ],
      "metadata": {
        "id": "W7V-dcZ5X556"
      }
    },
    {
      "cell_type": "markdown",
      "source": [
        "A compact state-space model for a single zone with temperature and moisture dynamics, plus an output map that reports space dry-bulb and space RH.\n",
        "\n",
        "\n",
        "Definitions (symbols & constants)\n",
        "\n",
        "States:\n",
        "\\begin{align}\n",
        "x &= \\begin{bmatrix}T_z\\\\ \\omega_z\\\\ c_z\\end{bmatrix}\n",
        "\\end{align}\n",
        "where\n",
        "\n",
        "* $T_z$ is room dry-bulb [°C],\n",
        "* $\\omega_z$ is the humidity ratio [$kg/kg_{dry}$]\n",
        "* $c_z$ is the $CO_2$ concentration [$kg/kg_{dry}$]\n",
        "\n",
        "Control inputs:\n",
        "\\begin{align}\n",
        "u_1 &= m_{sa} \\:\\textrm{(supply dry-air mass flow [kg/s])},\\\\\n",
        "u_2 &= T_{sa}, \\\\\n",
        "u_3 &= \\omega_{sa}\n",
        "\\end{align}\n",
        "\n",
        "Disturbances:\n",
        "\n",
        "\n",
        "* $T_o, \\omega_o, c_o$ (outdoor),\n",
        "* $m_{oa}$ (OA+infiltration dry-air flow),\n",
        "* $Q_{bg}$ (sensible) [W],\n",
        "* $G_{bg}$ (moisture) [kg/s],\n",
        "* $q^{occ}_{sens}$ [W/person] is per-person sensible heat and $f_c\\in[0,1]$ is the convective fraction (radiant part mainly warms surfaces; taking $f_c\\approx 0.6$ is common if you don't model wall states).\n",
        "* $g^{occ}_{v}$ [kg/s/person] the per-person vapor generation.\n",
        "* $ g_{CO2}^{occ} $ per-person CO₂ generation rate [kg/s/person]\n",
        "\n",
        "Constants:\n",
        "\n",
        "* $C_s$ effective sensible capacitance [J/K],\n",
        "* $M_m = \\rho_{air}V$ moisture capacity [kg{dry}],\n",
        "* $UA$ [W/K],\n",
        "* $c_{pa}\\approx1006 J/(kg·K)$\n",
        "\n",
        "⸻\n",
        "\n",
        "Governing dynamics (from energy & moisture balances)\n",
        "\n",
        "Define gains\n",
        "$k_U=\\frac{UA}{C_s},\\quad k_{sa}=\\frac{c_{pa}}{C_s},\\quad k_m=\\frac{1}{M}$.\n",
        "\n",
        "Then the scalar dynamics are\n",
        "\\begin{align}\n",
        "\\dot T_z\n",
        "&= -\\,k_U\\,T_z \\;-\\; k_{sa}\\,(m_{oa}+m_{sa})\\,T_z\n",
        "\\;+\\; k_U\\,T_o \\;+\\; k_{sa}\\,m_{oa}\\,T_o \\;+\\; k_{sa}\\,m_{sa}\\,T_{sa}\n",
        "\\;+\\; \\frac{Q_{bg}}{C_s}\\;+\\;\\frac{f_c\\,q^{occ}_{sens}}{C_s}N,\n",
        "\\\\\n",
        "\\dot \\omega_z\n",
        "&= -\\,k_m\\,(m_{oa}+m_{sa})\\,\\omega_z\n",
        "\\;+\\; k_m\\,m_{oa}\\,\\omega_o \\;+\\; k_m\\,m_{sa}\\,\\omega_{sa}\n",
        "\\;+\\; \\frac{G_{bg}}{M}\n",
        "\\;+\\; \\frac{g^{occ}_{v}}{M}\\,N.\\\\\n",
        "\\dot c_z\n",
        "&= -k_m\\,(m_{oa}+m_{sa})\\,c_z\n",
        "\\;+\\; k_m\\,m_{oa}\\,c_o\n",
        "\\;+\\; k_m\\,m_{sa}\\,c_{sa}\n",
        "\\;+\\; \\frac{g_{CO2}^{occ}}{M}\\,N\n",
        "\\end{align}\n",
        "\n",
        "\n",
        "These equations are bilinear (flows $\\times$ states) and affine in the exogenous terms.\n",
        "\n",
        "⸻\n",
        "\n",
        "Compact state–space (bilinear/affine form)\n",
        "\n",
        "Let\n",
        "\\begin{align}\n",
        "A_0&=\\begin{bmatrix}-k_U&0&0\\\\0&0 &0\\\\\n",
        "0 & 0 & 0\\end{bmatrix},\\\\\n",
        "A_1&=\\begin{bmatrix}-k_{sa}&0&0\\\\0&-k_m&0\\\\0 & 0 & -k_m\\end{bmatrix},\n",
        "\\end{align}\n",
        "and define the “composite inputs”\n",
        "\\begin{align}\n",
        "\\phi &=\\ \\begin{bmatrix}\n",
        "m_{sa}T_{sa} \\\\ m_{oa}T_o \\\\ m_{sa}\\omega_{sa} \\\\ m_{oa}\\omega_o\n",
        "\\\\ m_{sa}c_{sa} \\\\ m_{oa}c_o \\\\ Q_{bg} \\\\ G_{bg}\n",
        "\\end{bmatrix}.\n",
        "\\end{align}\n",
        "\n",
        "\\begin{align}\n",
        "B_o&=\\begin{bmatrix}\n",
        "\\frac{f_c\\,q^{occ}_{sens}}{C_s}\\\\\n",
        "\\frac{g^{occ}_{v}}{M}\\\\\n",
        "\\frac{g^{occ}_{CO2}}{M}\n",
        "\\end{bmatrix}\n",
        "\\end{align}\n",
        "Then\n",
        "\\begin{align}\n",
        "\\dot{x} &= A_0\\,x \\;+\\; (m_{sa}+m_{oa})\\;A_1\\,x\n",
        "\\;+\\; D\\,\\begin{bmatrix}T_o\\\\ \\omega_o\\\\ c_o\\end{bmatrix}\n",
        "\\;+\\; B_u\\,\\phi\\;+\\;B_oN\n",
        "\\end{align}\n",
        "with\n",
        "\\begin{align}\n",
        "D&=\\begin{bmatrix}k_U&0&0\\\\0&0&0\\\\0&0&0\\end{bmatrix},\\\\\n",
        "B_u&=\\begin{bmatrix}\n",
        "k_{sa} & k_{sa} & 0 & 0 & 0 & 0 & \\tfrac{1}{C_s} & 0\\\\\n",
        "0 & 0 & k_m & k_m & 0 & 0 & 0 & \\tfrac{1}{M}\\\\\n",
        "0 & 0 & 0 & 0 & k_m & k_m & 0 & 0\n",
        "\\end{bmatrix}.\n",
        "\\end{align}\n",
        "\n",
        "⸻\n",
        "\n",
        "Output map (room DB and RH)\n",
        "\n",
        "We report\n",
        "\\begin{align}\n",
        "y&=\\begin{bmatrix}y_1\\\\y_2\\\\ y_3\\end{bmatrix}\n",
        "=\\begin{bmatrix}T_z\\\\ \\mathrm{RH}z\\\\c_z\\end{bmatrix}.\n",
        "\\end{align}\n",
        "The RH is a nonlinear function of $T_z,\\omega_z$:\n",
        "\\begin{align}\n",
        "\\mathrm{RH}z &=\\; \\frac{p_v(T_z,\\omega_z)}{p_{ws}(T_z)},\\\\\n",
        "p_v &=\\frac{\\omega_z\\,p_{atm}}{0.62198+\\omega_z},\n",
        "\\end{align}\n",
        "with saturation vapor pressure (Tetens, $T_z$ in °C, Pa)\n",
        "\\begin{align}\n",
        "p_{ws}(T_z) &= 610.94 \\,\\exp\\left(\\frac{17.625\\,T_z}{T_z+243.04}\\right).\n",
        "\\end{align}\n",
        "\n",
        "Equivalently, in measurement form\n",
        "\\begin{align}\n",
        "y_1 &= [\\,1\\;\\;0\\,]\\,x,\\\\\n",
        "y_2 &= \\frac{\\displaystyle \\frac{\\omega_z\\,p_{atm}}{0.62198+\\omega_z}}\n",
        "{610.94 \\exp\\left(\\frac{17.625\\,T_z}{T_z+243.04}\\right)}.\n",
        "\\end{align}\n",
        "\n",
        "⸻\n",
        "\n",
        "Notes for control/estimation\n",
        "* Treat $(m_{sa},m_{oa})$ as scheduling variables (LPV) or keep the bilinear form for EKF/UKF design.\n",
        "* If you prefer a strictly linear form, you can hold $(m_{sa},m_{oa})$ at an operating point and linearize (get A,B about that point).\n",
        "* The same structure extends to a 2R2C thermal model by adding an envelope state $T_w$ and splitting UA across $T_o\\leftrightarrow T_w\\leftrightarrow T_z$.\n",
        "\n",
        "---\n",
        "\n",
        "\\begin{align}\n",
        "T_z^\\star\n",
        "&=\\frac{UA\\,T_o\\;+\\;c_{pa}\\,m_{\\inf}\\,T_o\\;+\\;c_{pa}\\,m_{sa}\\,T_{sa}\\;+\\;Q_{bg}\\;+\\;f_c\\,q^{occ}_{sens}N}\n",
        "{UA\\;+\\;c_{pa}\\,(m_{sa}+m_{\\inf})}\\\\\n",
        "\\omega_z^\\star\n",
        "&=\\frac{m_{\\inf}\\,\\omega_o\\;+\\;m_{sa}\\,\\omega_{sa}\\;+\\;G_{bg}\\;+\\;g^{occ}_{v}N}\n",
        "{m_{sa}+m_{\\inf}}\\\\\n",
        "c_z^\\star\n",
        "&=\\frac{m_{\\inf}\\,c_o\\;+\\;m_{sa}\\,c_{sa}\\;+\\;g^{occ}_{CO2}N}\n",
        "{m_{sa}+m_{\\inf}}\n",
        "\\end{align}\n",
        "\n",
        "---\n",
        "\n",
        "\\begin{align}\n",
        "T_{sa} - T_z^\\star &= \\frac{-[UA + c_{pa} m_{\\inf}](T_z^\\star  - T_o) + Q_{bg} + f_c q^{occ}_{sens}N}{c_{pa} m_{sa}} \\\\\n",
        "\\omega_{sa} - \\omega_z^\\star &= \\frac{m_{\\inf}\\left(\\omega_z^\\star-\\omega_o\\right) - G_{bg} - g_v^{occ}N}{m_{sa}} \\\\\n",
        "c_{sa} - c_z^\\star &= \\frac{m_{\\inf}\\left(c_z^\\star-c_o\\right) - g_{CO2}^{occ}N}{m_{sa}}\n",
        "\\end{align}\n",
        "\n",
        "\\begin{align*} T_z^\\star - T_o &= \\frac{Q_{bg} + f_c q^{occ}_{sens}N - c_{pa} m_{sa} (T_{sa} - T_z^\\star)}{UA + c_{pa} m_{\\inf}} \\\\ \\omega_z^\\star - \\omega_o &= \\frac{m_{sa}(\\omega_{sa} - \\omega_z^\\star) + G_{bg} + g_v^{occ}N}{m_{\\inf}} \\\\\n",
        "c_z^\\star - c_o &= \\frac{m_{sa}(c_{sa} - c_z^\\star) + g_{CO2}^{occ}N}{m_{\\inf}} \\end{align*}"
      ],
      "metadata": {
        "id": "J1m3PQZEiihj"
      }
    },
    {
      "cell_type": "code",
      "source": [],
      "metadata": {
        "id": "RorsiQ8d0x8w"
      },
      "execution_count": null,
      "outputs": []
    },
    {
      "cell_type": "markdown",
      "source": [
        "## Uncertainty Model-0"
      ],
      "metadata": {
        "id": "gaS9-hv00yOW"
      }
    },
    {
      "cell_type": "markdown",
      "metadata": {
        "id": "hXD9QF5V0yOW"
      },
      "source": [
        "\\begin{align}\n",
        "T_z^\\star\n",
        "&=\\frac{UA\\,T_o\\;+\\;c_{pa}\\,m_{\\inf}\\,T_o\\;+\\;c_{pa}\\,m_{sa}\\,T_{sa}\\;+\\;Q_{bg}\\;+\\;f_c\\,q^{occ}_{sens}N}\n",
        "{UA\\;+\\;c_{pa}\\,(m_{sa}+m_{\\inf})}\\\\\n",
        "\\omega_z^\\star\n",
        "&=\\frac{m_{\\inf}\\,\\omega_o\\;+\\;m_{sa}\\,\\omega_{sa}\\;+\\;G_{bg}\\;+\\;g^{occ}_{v}N}\n",
        "{m_{sa}+m_{\\inf}}\\\\\n",
        "c_z^\\star\n",
        "&=\\frac{m_{\\inf}\\,c_o\\;+\\;m_{sa}\\,c_{sa}\\;+\\;g^{occ}_{CO2}N}\n",
        "{m_{sa}+m_{\\inf}}\n",
        "\\end{align}\n",
        "\n",
        "Let\n",
        "\\begin{align}\n",
        "\\theta_T& =\\frac{UA+{c_{pa}}m_{\\inf}}{UA+{c_{pa}}(m_{sa}+m_{\\inf})}\\\\\n",
        "\\theta_m & =\\frac{m_{inf}}{m_{sa}+m_{inf}}\n",
        "\\end{align}\n",
        "\n",
        "\\begin{align}\n",
        "T_z^\\star\n",
        "&=\\theta_T\\,T_o\\;+\\;(1-\\theta_T)\\,T_{sa}\\;+\\;\\frac{Q_{bg}\\;+\\;f_c\\,q^{occ}_{sens}N}\n",
        "{UA\\;+\\;c_{pa}\\,(m_{sa}+m_{\\inf})}\\\\\n",
        "\\omega_z^\\star\n",
        "&=\\theta_m\\,\\omega_o\\;+\\;(1-\\theta_m)\\,\\omega_{sa}\\;+\\;\\frac{G_{bg}\\;+\\;g^{occ}_{v}N}\n",
        "{m_{sa}+m_{\\inf}}\\\\\n",
        "c_z^\\star\n",
        "&=\\theta_m\\,c_o\\;+\\;(1-\\theta_m)\\,c_{sa}\\;+\\;\\frac{g^{occ}_{CO2}N}\n",
        "{m_{sa}+m_{\\inf}}\n",
        "\\end{align}\n",
        "\n",
        "\\begin{align}\n",
        "T_z^\\star\n",
        "&=\\theta_T\\,(T_o-T_{sa})\\;+\\;T_{sa}\\;+\\;\\frac{Q_{bg}\\;+\\;f_c\\,q^{occ}_{sens}N}{UA\\;+\\;c_{pa}\\,(m_{sa}+m_{\\inf})}\\\\\n",
        "\\omega_z^\\star\n",
        "&=\\theta_m\\,(\\omega_o-\\omega_{sa})\\;+\\;\\omega_{sa}\\;+\\;\\frac{G_{bg}\\;+\\;g^{occ}_{v}N}{m_{sa}+m_{\\inf}}\\\\\n",
        "c_z^\\star\n",
        "&=\\theta_m\\,(c_o-c_{sa})\\;+\\;c_{sa}\\;+\\;\\frac{g^{occ}_{CO2}N}\n",
        "{m_{sa}+m_{\\inf}}\n",
        "\\end{align}\n",
        "\n",
        "---\n",
        "\n",
        "Let\n",
        "\\begin{align}\n",
        "y\\triangleq &=\\begin{bmatrix}\n",
        "y_T \\\\   y_{\\omega}\\\\ y_{CO2}\n",
        "\\end{bmatrix}\n",
        "= \\begin{bmatrix}\n",
        "T_z^\\star\\\\\n",
        "\\omega_z^\\star\\\\\n",
        "c_z^\\star\n",
        "\\end{bmatrix}\n",
        "\\end{align}\n",
        "\n",
        "---\n",
        "\n",
        "\\begin{align}\n",
        "\\phi &= \\begin{bmatrix}\n",
        "(T_o - T_{sa}) & 1 & 0 & 0 & 0 \\\\\n",
        "0 & 0 & (\\omega_o - \\omega_{sa}) & 1 &0 \\\\\n",
        "0 & 0 & (c_o - c_{sa}) & 0 & 1\\\\\n",
        "\\end{bmatrix}\\\\\n",
        "\\beta &= \\begin{bmatrix}\n",
        "\\theta_T \\\\\n",
        "T_{sa}+\\frac{Q_{bg}\\;+\\;f_c\\,q^{occ}_{sens}N}{UA\\;+\\;c_{pa}\\,(m_{sa}+m_{\\inf})}\\\\\n",
        "\\theta_m\\\\\n",
        "\\omega_{sa}\\;+\\;\\frac{G_{bg}\\;+\\;g^{occ}_{v}N}{m_{sa}+m_{\\inf}}\\\\\n",
        "c_{sa}\\;+\\;\\frac{g^{occ}_{CO2}N}\n",
        "{m_{sa}+m_{\\inf}}\n",
        "\\end{bmatrix}\n",
        "\\end{align}\n",
        "\n",
        "---\n",
        "\n",
        "\\begin{align}\n",
        "y = \\phi \\beta + \\epsilon, \\qquad \\epsilon \\sim \\mathscr{N}(0,\\Sigma_R)\n",
        "\\end{align}"
      ]
    },
    {
      "cell_type": "markdown",
      "source": [],
      "metadata": {
        "id": "QyyP2zVB0xg4"
      }
    },
    {
      "cell_type": "markdown",
      "source": [
        "## Uncertainty Model-1"
      ],
      "metadata": {
        "id": "bWVG3T4Ra9wS"
      }
    },
    {
      "cell_type": "markdown",
      "metadata": {
        "id": "a436acf2"
      },
      "source": [
        "Let the **measured set** be\n",
        "$$\\mathscr M = \\{ T_z^\\star,\\ \\omega_z^\\star,\\ c_z^\\star,\\ T_o,\\ \\omega_o,\\ c_o,\\ m_{sa} \\},$$\n",
        "and define the (unknown) lumped terms\n",
        "$$\\theta_{inf}=m_{\\inf},$$\n",
        "$$\\theta_{T}={UA+c_{pa}m_{\\inf}}=UA+{c_{pa}}m_{\\inf}.$$\n",
        "\n",
        "Then your steady-state inverses become\n",
        "\n",
        "\n",
        "\\begin{align}\n",
        "m_{sa}(c_{sa}-c_z^\\star)\n",
        "&=\n",
        "\\theta_{inf}\\left(c_z^\\star-c_o\\right)\n",
        "-g_{CO2}^{occ}N_o\\\\\n",
        "m_{sa}(\\omega_{sa}-\\omega_z^\\star)\n",
        "&=\n",
        "\\theta_{inf}\\left(\\omega_z^\\star-\\omega_o\\right)\n",
        "-G_{bg}-g_v^{occ}N_o\\\\\n",
        "c_{pa}m_{sa}(T_{sa}- T_z^\\star)\n",
        "&=\n",
        "\\theta_T\\left(T_z^\\star-T_o\\right)\n",
        "-Q_{bg}-f_c q^{occ}_{sens}N_o\n",
        "\\end{align}\n",
        "\n",
        "---\n",
        "\n",
        "Let\n",
        "\\begin{align}\n",
        "y_T\\triangleq c_{pa}m_{sa}(T_{sa}- T_z^\\star),\\\\\n",
        "y_{\\omega}\\triangleq m_{sa}(\\omega_{sa}- \\omega_z^\\star),\\\\\n",
        "y_{CO2}\\triangleq m_{sa}(c_{sa}- c_z^\\star),\n",
        "\\end{align}\n",
        "\\begin{align}\n",
        "x_T\\triangleq (T_z^\\star-T_o),\\\\\n",
        "x_{\\omega}\\triangleq (\\omega_z^\\star-\\omega_{o}),\\\\\n",
        "x_{CO2}\\triangleq (c_z^\\star-c_{o})\n",
        "\\end{align}\n",
        "\\begin{align}\n",
        "y_{CO2}\n",
        "&=\n",
        "\\theta_{inf}x_{CO2}\n",
        "-g_{CO2}^{occ}N_o\\\\\n",
        "y_{\\omega}\n",
        "&=\n",
        "\\theta_{inf}x_{\\omega}\n",
        "-G_{bg}-g_v^{occ}N_o\\\\\n",
        "y_T\n",
        "&=\n",
        "\\theta_{T}x_T\n",
        "-Q_{bg}-f_c q^{occ}_{sens}N_o\n",
        "\\end{align}\n",
        "\n",
        "* $X=[x_T\\:\\:\\:x_\\omega:\\:\\:x_{CO2}]^T\\sim \\mathscr{N}\\left(\\mu,\\Sigma\\right)$\n",
        "* $N_o \\sim \\Gamma(\\alpha, \\beta)$\n",
        "* $\\Theta = \\frac{1}{m_{sa}}\\mathrm{diag}\\left([\\theta_T\\:\\:\\:\\theta_{inf}]\\right) \\sim \\Gamma(\\alpha, \\beta)$"
      ]
    },
    {
      "cell_type": "markdown",
      "source": [
        "## Uncertainty Model-2"
      ],
      "metadata": {
        "id": "TKlE--BImpPm"
      }
    },
    {
      "cell_type": "markdown",
      "source": [
        "Let the **measured set** be\n",
        "$$\\mathscr M = \\{ T_z^\\star,\\ \\omega_z^\\star,\\ c_z^\\star,\\ T_o,\\ \\omega_o,\\ c_o,\\ m_{sa} \\},$$\n",
        "and define the (unknown) lumped terms\n",
        "$$\\theta_{inf}=\\frac{m_{\\inf}}{m_{sa}},$$\n",
        "$$\\theta_{T}=\\frac{UA+{c_{pa}}m_{\\inf}}{c_{pa}m_{\\inf}}.$$\n",
        "\n",
        "Then your steady-state inverses become\n",
        "\n",
        "\n",
        "\\begin{align}\n",
        "m_{sa}(c_{sa}-c_z^\\star)\n",
        "&=\n",
        "\\theta_{inf}\\left(c_z^\\star-c_o\\right)\n",
        "-g_{CO2}^{occ}N_o\\\\\n",
        "m_{sa}(\\omega_{sa}-\\omega_z^\\star)\n",
        "&=\n",
        "\\theta_{inf}\\left(\\omega_z^\\star-\\omega_o\\right)\n",
        "-G_{bg}-g_v^{occ}N_o\\\\\n",
        "c_{pa}m_{sa}(T_{sa}- T_z^\\star)\n",
        "&=\n",
        "\\theta_T\\left(T_z^\\star-T_o\\right)\n",
        "-Q_{bg}-f_c q^{occ}_{sens}N_o\n",
        "\\end{align}\n",
        "\n",
        "---\n",
        "\n",
        "Let\n",
        "\\begin{align}\n",
        "y_T\\triangleq (T_{sa}- T_z^\\star),\\\\\n",
        "y_{\\omega}\\triangleq (\\omega_{sa}- \\omega_z^\\star),\\\\\n",
        "y_{CO2}\\triangleq (c_{sa}- c_z^\\star),\n",
        "\\end{align}\n",
        "\\begin{align}\n",
        "x_T\\triangleq (T_z^\\star-T_o),\\\\\n",
        "x_{\\omega}\\triangleq (\\omega_z^\\star-\\omega_{o}),\\\\\n",
        "x_{CO2}\\triangleq (c_z^\\star-c_{o})\n",
        "\\end{align}\n",
        "\\begin{align}\n",
        "y_{CO2}\n",
        "&=\n",
        "\\theta_{inf}x_{CO2}\n",
        "-g_{CO2}^{occ}N_o\\\\\n",
        "y_{\\omega}\n",
        "&=\n",
        "\\theta_{inf}x_{\\omega}\n",
        "-G_{bg}-g_v^{occ}N_o\\\\\n",
        "y_T\n",
        "&=\n",
        "\\theta_{T}x_T\n",
        "-Q_{bg}-f_c q^{occ}_{sens}N_o\n",
        "\\end{align}\n",
        "\n",
        "* $X=[x_T\\:\\:\\:x_\\omega:\\:\\:x_{CO2}]^T\\sim \\mathscr{N}\\left(\\mu,\\Sigma\\right)$\n",
        "* $N_o \\sim \\Gamma(\\alpha, \\beta)$\n",
        "* $\\Theta = \\frac{1}{m_{sa}}\\mathrm{diag}\\left([\\theta_T\\:\\:\\:\\theta_{inf}]\\right) \\sim \\Gamma(\\alpha, \\beta)$"
      ],
      "metadata": {
        "id": "bGnEm5TAmsQV"
      }
    },
    {
      "cell_type": "code",
      "source": [],
      "metadata": {
        "id": "_nTN_PXd8MYT"
      },
      "execution_count": null,
      "outputs": []
    },
    {
      "cell_type": "markdown",
      "source": [
        "Totally doable. The cleanest way is to cast your two equations as a **Bayesian linear regression** (stacked over time) and then choose either a **conjugate Gaussian** update (simple, closed-form) or a **positivity-preserving** variant (log-parameters + EKF/MCMC). Below I give both.\n",
        "\n",
        "---\n",
        "\n",
        "# 1) Put the model in regression form\n",
        "\n",
        "For each time (k) define\n",
        "\\begin{align}\n",
        "x_{T,k}&\\triangleq (T_{z,k}^\\star-T_{o,k}),\\\\\n",
        "x_{\\omega,k}&\\triangleq (\\omega_{z,k}^\\star-\\omega_{o,k}),\\\\\n",
        "x_{CO2,k}&\\triangleq (c_{z,k}^\\star-c_{o,k}),\n",
        "\\end{align}\n",
        "\\begin{align}\n",
        "y_k &\\equiv\n",
        "\\begin{bmatrix}\n",
        "y_{T,k}\\\\y_{\\omega,k}\\\\y_{CO2,k}\n",
        "\\end{bmatrix}\n",
        "\\equiv\n",
        "\\begin{bmatrix}\n",
        "m_{sa,k}c_{pa}(T_{sa,k}-T_{z,k}^\\star)\\\\\n",
        "m_{sa,k}(\\omega_{sa,k}-\\omega_{z,k}^\\star)\\\\\n",
        "m_{sa,k}(c_{sa,k}-c_{z,k}^\\star)\n",
        "\\end{bmatrix},\\\\\n",
        "\\phi_k &\\equiv\n",
        "\\begin{bmatrix}\n",
        "x_{T,k} & -1 & 0 & 0\\\\\n",
        "0 & 0 & x_{\\omega,k} & -1\\\\\n",
        "0 & 0 & x_{CO2,k} & 0\n",
        "\\end{bmatrix},\\\\\n",
        "\\psi_k &\\equiv\n",
        "\\begin{bmatrix}\n",
        "f_c q^{occ}_{sens}\\\\\n",
        "g_v^{occ}\\\\\n",
        "g_{CO2}^{occ}\n",
        "\\end{bmatrix},\n",
        "\\end{align}\n",
        "\n",
        "\n",
        "\\begin{align}\n",
        "\\beta &\\equiv\n",
        "\\begin{bmatrix}\n",
        "\\theta_T\\\\\n",
        "Q_{bg}\\\\\n",
        "\\theta_{inf}\\\\\n",
        "G_{bg}\n",
        "\\end{bmatrix}\n",
        "\\end{align}\n",
        "\n",
        "\n",
        "Then the measurement model is simply\n",
        "\\begin{align}\n",
        "y_k &= \\phi_k\\beta + \\psi_k N_o +\\varepsilon_k,\\qquad\n",
        "\\varepsilon_k \\sim \\mathscr{N}(0,R),\n",
        "\\end{align}\n",
        "where $(R=\\operatorname{diag}(\\sigma_T^2,\\ \\sigma_\\omega^2))$ are the (unknown) error variances for the two equations.\n",
        "\n",
        "---\n",
        "\n",
        "Stack (n) samples:\n",
        "\\begin{align}\n",
        "y &= \\Phi\\beta + \\varepsilon,\\\\\n",
        "y\\in\\mathbb R^{2n},\\\\\n",
        "\\Phi\\in\\mathbb R^{2n\\times 6},\\\\\n",
        "\\varepsilon\\sim\\mathscr{N}(0,;I_n\\otimes R).\n",
        "\\end{align}\n",
        "\n",
        "\n",
        "---\n",
        "\n",
        "# 2) Conjugate Bayes update (fast & closed-form)\n",
        "\n",
        "Choose priors:\n",
        "\\begin{align}\n",
        "\\beta \\sim \\mathscr{N}(\\mu_0,\\Sigma_0),\\\\\n",
        "\\sigma_T^2 \\sim \\operatorname{InvGamma}(a_T,b_T),\\\\\n",
        "\\sigma_\\omega^2 \\sim \\operatorname{InvGamma}(a_\\omega,b_\\omega),\n",
        "\\end{align}\n",
        "with $(\\mu_0,\\Sigma_0)$ weakly informative (e.g., large variances; center $(\\theta_T,\\theta_\\omega)$ positive).\n",
        "\n",
        "Compute block-diagonal $(R=\\operatorname{diag}(\\sigma_T^2,\\sigma_\\omega^2))$ and $(W\\equiv I_n\\otimes R^{-1})$.\n",
        "\n",
        "**Posterior of $(\\beta\\mid\\sigma_T^2,\\sigma_\\omega^2)$:**\n",
        "\\begin{align}\n",
        "\\Sigma_n &= \\big(\\Sigma_0^{-1}+\\Phi^\\top W,\\Phi\\big)^{-1},\\\\\n",
        "\\mu_n = \\Sigma_n\\big(\\Sigma_0^{-1}\\mu_0+\\Phi^\\top W,y\\big).\n",
        "\\end{align}\n",
        "\n",
        "**Posterior of variances (independent per channel):**\n",
        "Let residuals per channel be $(e_T = y_T-\\Phi_T\\beta), (e_\\omega=y_\\omega-\\Phi_\\omega\\beta)$.\n",
        "Then\n",
        "\\begin{align}\n",
        "\\sigma_T^2 \\mid \\beta,\\text{data}\\ \\sim\\ \\operatorname{InvGamma}\\Big(a_T+\\tfrac{n}{2},\\ b_T+\\tfrac{1}{2},e_T^\\top e_T\\Big),\\\\\n",
        "\\sigma_\\omega^2 \\mid \\beta,\\text{data}\\ \\sim\\ \\operatorname{InvGamma}\\Big(a_\\omega+\\tfrac{n}{2},\\ b_\\omega+\\tfrac{1}{2},e_\\omega^\\top e_\\omega\\Big).\n",
        "\\end{align}\n",
        "\n",
        "**Gibbs sampler (few lines):**\n",
        "\n",
        "1. Initialize $((\\beta,\\sigma_T^2,\\sigma_\\omega^2))$.\n",
        "2. Sample $(\\beta \\sim \\mathscr{N}(\\mu_n,\\Sigma_n))$ given current variances.\n",
        "3. Sample $(\\sigma_T^2,\\sigma_\\omega^2)$ from the inverse-gamma posteriors given $(\\beta)$.\n",
        "4. Repeat; summarize $(\\beta)$ posteriors (means/intervals) and predictive uncertainty.\n",
        "\n",
        "This gives you full posteriors **analytically** (no HMC needed), runs in milliseconds, and is easy to make **online** via a **recursive** (Kalman/RLS) version by taking $(\\beta)$ as a static state with tiny process noise.\n",
        "\n",
        "\n",
        "---\n",
        "\n",
        "# 3) Positivity-preserving option (log-parameters)\n",
        "\n",
        "If you insist on $(\\theta_T,\\theta_\\omega,Q_{bg},G_{bg},f_cq^{occ}_{sens},g_v^{occ}\\ge 0)$, re-parameterize\n",
        "\\begin{align}\n",
        "\\beta_j=\\exp(\\eta_j),\\qquad \\eta\\sim \\mathscr{N}(m_0,S_0).\n",
        "\\end{align}\n",
        "Now the model is **nonlinear** in $(\\eta)$:\n",
        "\n",
        "\\begin{align}\n",
        "y_k = \\phi_k\\exp(\\eta) + \\varepsilon_k.\n",
        "\\end{align}\n",
        "Do Bayes update via:\n",
        "\n",
        "* **Laplace approximation** (one Newton step per batch), or\n",
        "* **UKF** treating $(\\eta)$ as the state (static) with small process noise, or\n",
        "* **HMC/NUTS** (PyMC/NumPyro) with a Normal prior on (\\eta).\n",
        "\n",
        "This keeps all parameters strictly positive and is robust when you later fold in mild uncertainty on $(x)$ or $(N_o)$.\n",
        "\n",
        "---\n",
        "\n",
        "# 4) Online (sequential) update = “Kalman for coefficients”\n",
        "\n",
        "Treat $(\\beta_{k+1}=\\beta_k+w_k)$ with $(w_k\\sim\\mathscr N(0,Q_\\beta))$ (small), and the measurement\n",
        "\\begin{align}\n",
        "y_k = \\phi_k\\beta_k + \\varepsilon_k.\n",
        "\\end{align}\n",
        "Then standard KF/RLS recursions give **running posteriors** $((\\mu_k,\\Sigma_k))$ for $(\\beta)$:\n",
        "\\begin{align}\n",
        "&\\text{Predict: } \\mu^-=\\mu_{k-1},\\ \\Sigma^-=\\Sigma_{k-1}+Q_\\beta\\\\\n",
        "&\\text{Gain: } K=\\Sigma^- \\phi_k^\\top(\\phi_k\\Sigma^- \\phi_k^\\top+R)^{-1}\\\\\n",
        "&\\text{Update: } \\mu_k=\\mu^- + K(y_k-\\phi_k\\mu^-),\\ \\Sigma_k=(I-K\\phi_k)\\Sigma^-.\n",
        "\\end{align}\n",
        "This is the **Bayesian update** in real time, converging to the batch posterior as (k) grows.\n",
        "\n",
        "---\n",
        "\n",
        "# 5) Using your “Gamma priors” idea\n",
        "\n",
        "You suggested $(\\Theta\\sim \\Gamma(\\alpha,\\beta))$. With a **Gaussian likelihood**, Gamma on linear coefficients is **non-conjugate**. You can still do it via:\n",
        "\n",
        "* **Metropolis-within-Gibbs**: sample the positive coefficients from their Gamma priors with a log-posterior proposal, keeping the Gaussian conditionals for the rest; or\n",
        "* **Transform** to logs and use Gaussian priors on $(\\eta=\\log\\beta)$ (Section 3), which behaves similarly but is easier to implement and tune.\n",
        "\n",
        "---\n",
        "\n",
        "## What you’ll get out\n",
        "\n",
        "* Posterior means/intervals for $(\\theta_T,\\theta_\\omega,Q_{bg},G_{bg},f_c q^{occ}_{sens},g_v^{occ})$.\n",
        "* Predictive distributions for $(T_{sa},\\omega_{sa})$ (and hence for coil loads / energy).\n",
        "* If you run the **online** version, you'll have continuously “self-calibrated” coefficients that adapt to seasonal changes.\n",
        "\n",
        "If you want, I can drop a 30-line Python (NumPy/PyMC) snippet for either the **conjugate Gibbs** or the **log-parameter Laplace** update that you can paste into your trial.\n"
      ],
      "metadata": {
        "id": "OuEM6Eez8NBq"
      }
    },
    {
      "cell_type": "markdown",
      "source": [
        "## Bayes Model"
      ],
      "metadata": {
        "id": "sDqmCfVQzOC0"
      }
    },
    {
      "cell_type": "markdown",
      "source": [
        "Then your measurement model is simply\n",
        "\\begin{align}\n",
        "y_k &= \\phi_k\\beta + \\psi_k N_o +\\varepsilon_k,\\qquad\n",
        "\\varepsilon_k \\sim \\mathscr{N}(0,R),\n",
        "\\end{align}\n",
        "where $(R=\\operatorname{diag}(\\sigma_T^2,\\ \\sigma_\\omega^2,\\ \\sigma_c^2))$ are the (unknown) error variances for the two equations.\n",
        "\n",
        "\\begin{align}\n",
        "\\mathscr{P}\\left(\\beta,N_o|y\\right)\\propto  \\mathscr{P}\\left(y|\\beta,N_o\\right)\\mathscr{P}\\left(\\beta,N_o\\right)\n",
        "\\end{align}"
      ],
      "metadata": {
        "id": "U8ab2IcTcuGl"
      }
    },
    {
      "cell_type": "markdown",
      "source": [
        "Yes—your “two-step Bayes” (first infer (N), then estimate (\\beta) using (\\mathbb E[N])) is well-aligned with current practice. You can justify it with:\n",
        "\n",
        "## 1) Bayesian occupancy inference (Step 1)\n",
        "\n",
        "* **Bayesian filtering of occupancy from CO₂.** Jiang et al. (Energy & Buildings): Bayesian filter combining a stochastic occupancy model (time-varying Markov / Poisson) with a CO₂ mass-balance observation model; delivers a full posterior (p(N_k\\mid \\text{data})). Use their setup to support your Poisson prior and per-tick Bayesian update for (N). ([Aalto University's research portal][1])\n",
        "* **CO₂ “sensing by proxy,” Bayesian/MCMC.** Jin & Bayen show Bayesian inference of occupancy/emission rates from CO₂ with a PDE–ODE model; they explicitly compute posteriors for occupancy-related quantities—ideal precedent for taking (\\mathbb E[N_k]) as a plug-in regressor. ([bayen.berkeley.edu][2])\n",
        "* **Poisson/NHPP occupancy as a standard count model.** Reviews and assessments document Poisson/non-homogeneous Poisson processes as canonical for arrival/counts in offices; use this to motivate your Poisson prior on (N_k). ([ScienceDirect][3])\n",
        "\n",
        "## 2) Bayesian estimation of thermal/moisture parameters (Step 2)\n",
        "\n",
        "* **Bayesian calibration of building thermal models.** Multiple papers calibrate lumped parameters (UA, gains, etc.) by Bayesian linear/Gaussian likelihoods—exactly your (\\beta) block—so plugging (\\mathbb E[N_k]) into the design matrix is a standard “errors-in-inputs” simplification. Cite Calama-González et al. (Applied Energy 2021), Cui et al. (Buildings 2022), and Kristensen et al. (Energy Procedia 2017). ([ScienceDirect][4])\n",
        "\n",
        "## 3) Using estimated parameter distributions in comfort–energy optimization\n",
        "\n",
        "* **Chance-constrained / uncertainty-aware MPC.** A recent framework takes parameter/posterior uncertainty from identification and embeds it in a chance-constrained optimizer—exactly the link from your Bayesian estimation to comfort-zone & energy objectives. Use this to justify propagating (\\mathrm{Var}(\\beta)) (and (\\mathrm{Var}(N)), if desired) into tightened constraints for (T_z,\\omega_z). ([IBPSA Publications][5])\n",
        "* **Humidity-aware MPC field work.** While not Bayesian on (T_{sa},\\omega_{sa}), it is a near-term precedent for the second step (optimize comfort & energy with explicit humidity constraints), which your Bayesian estimates would feed. ([ResearchGate][6])\n",
        "\n",
        "## How to phrase it in your paper\n",
        "\n",
        "> *We adopt a two-stage Bayesian procedure. First, we infer the posterior of occupancy (p(N_k\\mid \\text{CO₂},\\text{meteo})) using a Poisson/Markov prior and a CO₂ mass-balance likelihood, following Bayesian occupancy estimators in the literature.* ([Aalto University's research portal][1])\n",
        "> *Second, conditioning on (\\mathbb E[N_k]), we perform Bayesian linear regression to estimate lumped sensible/latent parameters (\\beta) in our steady-state inverse model, consistent with standard Bayesian calibration of building thermal models.* ([ScienceDirect][4])\n",
        "> *Finally, we embed the identified parameter distributions in a chance-constrained optimizer to keep ((T_z,\\omega_z)\\in D) while minimizing energy, as in recent uncertainty-aware HVAC MPC.* ([IBPSA Publications][5])\n",
        "\n",
        "If you want, I can draft a short “Methods” subsection that (i) writes the Poisson-Bayes update for (N_k), (ii) the conditional Gaussian posterior for (\\beta\\mid \\mathbb E[N]), and (iii) the chance-constraint reformulation you’ll use in the controller.\n",
        "\n",
        "[1]: https://research.aalto.fi/files/38353202/ENG_Jiang_Bayesian_filtering_EB.pdf?utm_source=chatgpt.com \"Bayesian filtering for building occupancy estimation from ...\"\n",
        "[2]: https://bayen.berkeley.edu/sites/default/files/sensing_by_proxy.pdf?utm_source=chatgpt.com \"Sensing by Proxy: Occupancy Detection Based on Indoor CO2 ...\"\n",
        "[3]: https://www.sciencedirect.com/science/article/abs/pii/S0378778821003893?utm_source=chatgpt.com \"Assessment of probabilistic models to estimate the ...\"\n",
        "[4]: https://www.sciencedirect.com/science/article/abs/pii/S0306261920315361?utm_source=chatgpt.com \"Bayesian calibration of building energy models for ...\"\n",
        "[5]: https://publications.ibpsa.org/proceedings/asim/2024/papers/E10_asim2024_1109.pdf?utm_source=chatgpt.com \"Chance-constraint MPC approach to optimize ...\"\n",
        "[6]: https://www.researchgate.net/publication/381921834_Humidity-Aware_Model_Predictive_Control_for_Residential_Air_Conditioning_A_Field_Study?utm_source=chatgpt.com \"(PDF) Humidity-Aware Model Predictive Control for ...\"\n"
      ],
      "metadata": {
        "id": "1wCRtNwIpM8R"
      }
    },
    {
      "cell_type": "markdown",
      "source": [
        "##Modelling and Control"
      ],
      "metadata": {
        "id": "vWuZACtTKtul"
      }
    },
    {
      "cell_type": "markdown",
      "source": [
        "Themeasurement model is simply\n",
        "\\begin{align}\n",
        "y_k &= \\phi_k\\beta + \\varepsilon_k,\\qquad\n",
        "\\varepsilon_k \\sim \\mathscr{N}(0,\\Sigma_R),\n",
        "\\end{align}\n",
        "where $(R=\\operatorname{diag}(\\sigma_T^2,\\ \\sigma_\\omega^2,\\ \\sigma_c^2))$ are the (unknown) error variances for the three equations."
      ],
      "metadata": {
        "id": "KlvTeDZGLAqJ"
      }
    },
    {
      "cell_type": "markdown",
      "source": [
        "\\begin{align}\n",
        "\\beta_{k} & = \\beta_{k-1}+ w_k ,\\qquad\n",
        "w_k \\sim \\mathscr{N}(0,\\Sigma_P),\\\\\n",
        "y_k &= \\phi_k \\beta_k  +\\varepsilon_k,\\qquad\n",
        "\\varepsilon_k \\sim \\mathscr{N}(0,\\Sigma_R),\n",
        "\\end{align}\n",
        "where $(\\Sigma_R=\\operatorname{diag}(\\sigma_T^2,\\ \\sigma_\\omega^2,\\ \\sigma_c^2))$ are the (unknown) error variances for the three equations.\n",
        "\n",
        "---\n",
        "\n",
        "The Kalman filter\n",
        "\\begin{align}\n",
        "&\\text{Predict: } \\mu^-=\\mu_{k-1},\\ \\Sigma^-=\\Sigma_{k-1}+\\Sigma_P\\\\\n",
        "&\\text{Gain: } K_k=\\Sigma^- \\phi_k^\\top(H_k\\Sigma^- \\phi_k^\\top+\\Sigma_R)^{-1}\\\\\n",
        "&\\text{Update: } \\mu_k=\\mu^- + K_k(y_k-\\phi_k\\mu^-),\\ \\Sigma_k=(I-K_k\\phi_k)\\Sigma^-.\n",
        "\\end{align}\n",
        "\n",
        "---\n",
        "\n",
        "\\begin{align}\n",
        "\\widehat{y}_k &\\triangleq \\phi_k\\mu_k\n",
        "\\end{align}\n",
        "\n",
        "Let\n",
        "\\begin{align}\n",
        "\\mu_k =\\begin{bmatrix}\\widehat{T}^\\star_{z,k}\\\\ \\widehat{\\omega}^\\star_{z,k}\\\\\\widehat{c}^\\star_{z,k}\n",
        "\\end{bmatrix}\n",
        "\\end{align}"
      ],
      "metadata": {
        "id": "hFcqeCpuLC6L"
      }
    },
    {
      "cell_type": "markdown",
      "source": [],
      "metadata": {
        "id": "eadHvNTkCkBj"
      }
    },
    {
      "cell_type": "markdown",
      "source": [
        "Here are generalized expressions ** for an HVAC system with **air mixing, cooling/heating coil, and reheat**:\n",
        "\n",
        "***\n",
        "\n",
        "### 1. **Air Mixing (Pre-coil)**\n",
        "Assume the air handler mixes **outdoor air (OA)** and **return air (RA)**:\n",
        "- $ m_{oa,k} $: outdoor air mass flow\n",
        "- $ m_{ra,k} = m_{sa,k-1}$: return air mass flow\n",
        "- $ m_{ma,k} = m_{oa,k} +m_{ra,k}$: total mixed air mass flow\n",
        "\n",
        "The **mixed air properties** entering the coil are:\n",
        "\n",
        "\\begin{align}\n",
        "T_{ma,k} &= \\frac{m_{oa,k} T_{o,k} + m_{ra,k} T^\\star_{z,k}}{m_{ma,k}},\\\\\n",
        "\\omega_{ma,k} &= \\frac{m_{oa,k}\\omega_{o,k} + m_{ra,k}\\omega^\\star_{z,k}}{m_{ma,k}},\\\\\n",
        "c_{m,k} &= \\frac{m_{oa,k}c_{o,k} + m_{ra,k}c^\\star_{z,k}}{m_{ma,k}}\n",
        "\\end{align}\n",
        "\n",
        "Let $\\gamma_{m,k}=\\frac{m_{o,k}}{m_{oa,k}+m_{ra,k}}$ then\n",
        "\\begin{align}\n",
        "T_{ma,k} &= m_{ma,k}\\left(\\gamma_{m,k} T_{o,k} + (1-\\gamma_{m,k}) T^\\star_{z,k}\\right),\\\\\n",
        "\\omega_{ma,k} &= m_{ma,k}\\left(\\gamma_{m,k}\\omega_{o,k} + (1-\\gamma_{m,k})\\omega^\\star_{z,k}\\right),\\\\\n",
        "c_{m,k} &= m_{ma,k}\\left(\\gamma_{m,k}c_{o,k} + (1-\\gamma_{m,k})c^\\star_{z,k}\\right)\n",
        "\\end{align}"
      ],
      "metadata": {
        "id": "JKbJrjDzx6OC"
      }
    },
    {
      "cell_type": "markdown",
      "source": [
        "\n",
        "\n",
        "### Sensible (Thermal) Energy Required by the Coil\n",
        "\n",
        "For each time step, the energy rate required to move the mixed air from **mixed condition ($T_{ma,k}$)** to the **coil outlet or supply air temperature (${T}_{sa,k+1}$)** is:\n",
        "\\begin{align}\n",
        "Q_{\\text{coil},k+1} = {m}_{ma,k} \\, c_{pa} |({T}_{\\text{sa},k+1} - T_{\\text{ma},k})|\n",
        "\\end{align}\n",
        "- ${T}_{\\text{sa},k+1}$: supply air temperature [°C] for the next step\n",
        "- $T_{\\text{ma},k}$: mixed air temperature entering coil [°C]\n",
        "\n",
        "***\n",
        "\n",
        "### Latent (Moisture) Energy Cost\n",
        "\n",
        "If moisture is **removed** (dehumidification by cooling coil):\n",
        "\\begin{align}\n",
        "Q_{\\text{latent},k} &= {m}_{ma,k} \\cdot h_{fg} \\cdot \\max(0, \\omega_{\\text{ma},k} - {\\omega}^\\star_{z,k+1})\n",
        "\\end{align}\n",
        "\n",
        "- $h_{fg}$: latent heat of vaporization (≈ 2,500,000 J/kg at room temperature)\n",
        "- $\\omega_{\\text{ma},k}$: mixed air humidity ratio (kg water/kg dry air)\n",
        "- ${\\omega}_{\\text{sa},k+1}$: supply air humidity ratio at the next step\n",
        "\n",
        "(Coils don't **add** moisture, so this term is only positive when $\\omega_{sa,k} < \\omega_{ma,k+1}$.)\n",
        "\n",
        "***\n",
        "\n",
        "### Combined Coil Power (Cooling or Heating)\n",
        "\n",
        "The **total coil load at time $k$** (assuming no reheat for simplicity) is:\n",
        "\\begin{align}\n",
        "Q_{\\text{coil,total},k+1} &= Q_{\\text{coil},k+1} + Q_{\\text{latent},k+1},\\\\\n",
        "&= {m}_{ma,k} \\left[c_{pa}|({T}_{\\text{sa},k+1} - T_{\\text{ma},k})| + h_{fg} \\cdot \\max(0, \\omega_{\\text{ma},k} - {\\omega}_{\\text{sa},k+1}) \\right]\\\\\n",
        "&= {m}_{ma,k} \\left[c_{pa}|\\left({T}_{\\text{sa},k+1} - \\left(\\gamma_{m,k} T_{o,k} + (1-\\gamma_{m,k}) T^\\star_{z,k}\\right)\\right)| + h_{fg} \\cdot \\max\\left(0, \\left(\\gamma_{m,k}\\omega_{o,k} + (1-\\gamma_{m,k})\\omega^\\star_{z,k}\\right) - {\\omega}_{\\text{sa},k+1}\\right) \\right]\n",
        "\\end{align}\n",
        "\n",
        "Substituting the Kalman filter estimate $\\mu_k$\n",
        "\\begin{align}\n",
        "Q_{\\text{coil,total},k+1} &= {m}_{ma,k} \\left[c_{pa}|\\left({T}_{\\text{sa},k+1} - \\left(\\gamma_{m,k} T_{o,k} + (1-\\gamma_{m,k}) \\widehat{T}^\\star_{z,k}\\right)\\right)| + h_{fg} \\cdot \\max\\left(0, \\left(\\gamma_{m,k}\\omega_{o,k} + (1-\\gamma_{m,k})\\widehat{\\omega}^\\star_{z,k}\\right) - {\\omega}_{\\text{sa},k+1}\\right) \\right]\n",
        "\\end{align}\n"
      ],
      "metadata": {
        "id": "xsF0TWiV0Imu"
      }
    },
    {
      "cell_type": "code",
      "source": [],
      "metadata": {
        "id": "H293kNZ-JyZ9"
      },
      "execution_count": null,
      "outputs": []
    }
  ]
}