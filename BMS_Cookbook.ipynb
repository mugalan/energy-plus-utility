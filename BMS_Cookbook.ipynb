{
  "nbformat": 4,
  "nbformat_minor": 0,
  "metadata": {
    "colab": {
      "provenance": [],
      "include_colab_link": true
    },
    "kernelspec": {
      "name": "python3",
      "display_name": "Python 3"
    },
    "language_info": {
      "name": "python"
    }
  },
  "cells": [
    {
      "cell_type": "markdown",
      "metadata": {
        "id": "view-in-github",
        "colab_type": "text"
      },
      "source": [
        "<a href=\"https://colab.research.google.com/github/mugalan/energy-plus-utility/blob/dev/BMS_Cookbook.ipynb\" target=\"_parent\"><img src=\"https://colab.research.google.com/assets/colab-badge.svg\" alt=\"Open In Colab\"/></a>"
      ]
    },
    {
      "cell_type": "markdown",
      "source": [
        "#Install"
      ],
      "metadata": {
        "id": "HinVmhpQ8C8H"
      }
    },
    {
      "cell_type": "code",
      "source": [
        "# install from your dev branch\n",
        "!pip install -q \"energy-plus-utility @ git+https://github.com/mugalan/energy-plus-utility.git@dev\""
      ],
      "metadata": {
        "id": "i4ebX82G8Fuy"
      },
      "execution_count": null,
      "outputs": []
    },
    {
      "cell_type": "code",
      "source": [
        "# run the silent bootstrap in this kernel\n",
        "from eplus import prepare_colab_eplus\n",
        "prepare_colab_eplus()  # raises on failure, otherwise silent\n",
        "\n",
        "# now your imports work\n",
        "from eplus import EPlusUtil, EPlusSqlExplorer"
      ],
      "metadata": {
        "id": "0CDOCrww8Mpu"
      },
      "execution_count": null,
      "outputs": []
    },
    {
      "cell_type": "markdown",
      "source": [
        "## Initialize class"
      ],
      "metadata": {
        "id": "d-Mjn8sxAHDW"
      }
    },
    {
      "cell_type": "code",
      "source": [
        "import subprocess, json, pathlib, os\n",
        "import pandas as pd\n",
        "EPLUS = str(pathlib.Path.home() / \"EnergyPlus-25-1-0\")\n",
        "EPLUS_ROOT = \"/root/EnergyPlus-25-1-0\"\n",
        "\n",
        "out_dir = \"/content/eplus_out\"\n",
        "idf = f\"{EPLUS}/ExampleFiles/5ZoneAirCooled.idf\"\n",
        "epw = f\"{EPLUS}/WeatherData/USA_CA_San.Francisco.Intl.AP.724940_TMY3.epw\"\n",
        "\n",
        "util = EPlusUtil(verbose=1, out_dir = out_dir)\n",
        "util.delete_out_dir()\n",
        "util.set_model(idf,epw)\n",
        "state = util.api.state_manager.new_state()\n",
        "util.ensure_output_sqlite()"
      ],
      "metadata": {
        "id": "diGPKAjDAuqO"
      },
      "execution_count": null,
      "outputs": []
    },
    {
      "cell_type": "code",
      "source": [
        "def test_method (self,s,aa):\n",
        "    print('inside test',aa)\n",
        "    return aa"
      ],
      "metadata": {
        "id": "xI9N6No-ieha"
      },
      "execution_count": null,
      "outputs": []
    },
    {
      "cell_type": "code",
      "source": [
        "import types\n",
        "util.test_method = types.MethodType(test_method, util)"
      ],
      "metadata": {
        "id": "zi1ohcoSinZC"
      },
      "execution_count": null,
      "outputs": []
    },
    {
      "cell_type": "code",
      "source": [
        "util.test_method(0,1)"
      ],
      "metadata": {
        "id": "gOKthVBAi2qI"
      },
      "execution_count": null,
      "outputs": []
    },
    {
      "cell_type": "markdown",
      "source": [
        "## *Optional:* Convert the model to .json"
      ],
      "metadata": {
        "id": "5Hk3A_J9smhH"
      }
    },
    {
      "cell_type": "code",
      "source": [
        "idf_path = pathlib.Path(idf)\n",
        "converter = os.path.join(EPLUS_ROOT, \"ConvertInputFormat\")   # on Windows it's ConvertInputFormat.exe\n",
        "\n",
        "# Convert IDF → epJSON (outputs 5ZoneAirCooled.epJSON in the same folder)\n",
        "subprocess.run([converter, str(idf_path)], check=True)\n",
        "\n",
        "epjson_path = idf_path.with_suffix(\".epJSON\")\n",
        "print(\"epJSON exists?\", epjson_path.exists(), epjson_path)"
      ],
      "metadata": {
        "id": "GJeqGksrssQw"
      },
      "execution_count": null,
      "outputs": []
    },
    {
      "cell_type": "markdown",
      "source": [
        "## Simulations"
      ],
      "metadata": {
        "id": "u2JguV_ItYKd"
      }
    },
    {
      "cell_type": "markdown",
      "source": [
        "###Dry run to create tables etc."
      ],
      "metadata": {
        "id": "Nk5bRqjgtwSZ"
      }
    },
    {
      "cell_type": "code",
      "source": [
        "util = EPlusUtil(verbose=1)\n",
        "util.delete_out_dir()\n",
        "util.set_model(idf,epw)\n",
        "util.ensure_output_sqlite()\n",
        "util.dry_run_min(include_ems_edd=False)"
      ],
      "metadata": {
        "id": "8V708h-kRrmN"
      },
      "execution_count": null,
      "outputs": []
    },
    {
      "cell_type": "code",
      "source": [
        "util.list_zone_names()"
      ],
      "metadata": {
        "id": "6_9mtGOLEIZG"
      },
      "execution_count": null,
      "outputs": []
    },
    {
      "cell_type": "code",
      "source": [
        "pd.DataFrame(util.list_variables_safely())"
      ],
      "metadata": {
        "id": "_7o7JoOeBQXA"
      },
      "execution_count": null,
      "outputs": []
    },
    {
      "cell_type": "code",
      "source": [
        "pd.DataFrame(util.list_actuators_safely())"
      ],
      "metadata": {
        "id": "zUqtrmx17I90"
      },
      "execution_count": null,
      "outputs": []
    },
    {
      "cell_type": "markdown",
      "source": [
        "## Setup Simulation"
      ],
      "metadata": {
        "id": "3xcUQXuMA-yQ"
      }
    },
    {
      "cell_type": "markdown",
      "source": [
        "### Enable Varaibles and Meters"
      ],
      "metadata": {
        "id": "ZnR8tEtdBFQC"
      }
    },
    {
      "cell_type": "code",
      "source": [
        "# 1) Ensure the meter(s) you want are reported\n",
        "output_meteres = [\"InteriorLights:Electricity:Zone:SPACE5-1\",\"Cooling:EnergyTransfer:Zone:SPACE1-1\",\"Cooling:EnergyTransfer\",\"Electricity:Facility\",\"ElectricityPurchased:Facility\", \"ElectricitySurplusSold:Facility\"]\n",
        "\n",
        "util.ensure_output_meters(output_meteres, freq=\"TimeStep\")\n"
      ],
      "metadata": {
        "id": "jdbTfW9IB5n1"
      },
      "execution_count": null,
      "outputs": []
    },
    {
      "cell_type": "markdown",
      "source": [
        "### Run Simulation"
      ],
      "metadata": {
        "id": "Xza9EqdqHyc0"
      }
    },
    {
      "cell_type": "code",
      "source": [
        "# util = EPlusUtil(verbose=1)\n",
        "util.delete_out_dir()\n",
        "util.set_model(idf,epw, outdoor_co2_ppm=400.0, per_person_m3ps_per_W=3.82e-08)\n",
        "# util.ensure_output_variables([\n",
        "#     # {\"name\":\"Site Outdoor Air Drybulb Temperature\", \"key\":\"\", \"freq\":\"TimeStep\"},\n",
        "#     # {\"name\":\"Site Outdoor Air Dewpoint Temperature\", \"key\":\"\", \"freq\":\"TimeStep\"},\n",
        "#     # {\"name\":\"Site Wind Speed\", \"key\":\"\", \"freq\":\"TimeStep\"},\n",
        "#     # {\"name\":\"Site Diffuse Solar Radiation Rate per Area\", \"key\":\"\", \"freq\":\"TimeStep\"},\n",
        "#     # {\"name\":\"Site Direct Solar Radiation Rate per Area\", \"key\":\"\", \"freq\":\"TimeStep\"},\n",
        "#     {'name':'Zone Mean Air Temperature',          'key':'*',           'freq':'TimeStep'},\n",
        "#     {'name':'Zone Mean Air Dewpoint Temperature', 'key':'*',           'freq':'TimeStep'},\n",
        "#     {'name':'Zone Air Relative Humidity',          'key':'*',           'freq':'TimeStep'},\n",
        "#     {'name':'Zone People Occupant Count',         'key':'*',           'freq':'TimeStep'},\n",
        "#     {'name':'Site Outdoor Air Drybulb Temperature','key':'Environment','freq':'TimeStep'},\n",
        "#     {'name':'Site Outdoor Air Wetbulb Temperature','key':'Environment','freq':'TimeStep'},\n",
        "#     {\"name\":\"Zone Air System Sensible Cooling Energy\", \"key\":\"*\", \"freq\":\"TimeStep\"},\n",
        "#     {\"name\":\"Zone Total Internal Latent Gain Energy\", \"key\":\"*\", \"freq\":\"TimeStep\"},\n",
        "#     {\"name\": \"Zone Air CO2 Concentration\", \"key\": \"*\", \"freq\": \"TimeStep\"},\n",
        "#     {\"name\": \"Zone Outdoor Air Inlet Mass Flow Rate\", \"key\": \"*\", \"freq\": \"TimeStep\"},\n",
        "#     {\"name\": \"System Node Standard Density Volume Flow Rate\", \"key\": \"*\", \"freq\": \"TimeStep\"},\n",
        "#     # {\"name\":\"Zone Air System Sensible Cooling Energy\", \"key\":\"SPACE2-1\", \"freq\":\"TimeStep\"},\n",
        "#     # {\"name\":\"Zone Air System Sensible Cooling Energy\", \"key\":\"SPACE3-1\", \"freq\":\"TimeStep\"},\n",
        "#     # {\"name\":\"Zone Air System Sensible Cooling Energy\", \"key\":\"SPACE4-1\", \"freq\":\"TimeStep\"},\n",
        "#     # {\"name\":\"Zone Air System Sensible Cooling Energy\", \"key\":\"SPACE5-1\", \"freq\":\"TimeStep\"},\n",
        "# ], activate=True)\n",
        "# 1) Make sure SQL will be produced\n",
        "# util.ensure_output_sqlite(activate=True)\n",
        "\n",
        "# 2) Variables to record (TimeStep)\n",
        "specs = [\n",
        "    # --- Zone state + people ---\n",
        "    {\"name\": \"Zone Mean Air Temperature\",                \"key\": \"*\",            \"freq\": \"TimeStep\"},\n",
        "    {\"name\": \"Zone Mean Air Dewpoint Temperature\",       \"key\": \"*\",            \"freq\": \"TimeStep\"},\n",
        "    {\"name\": \"Zone Air Relative Humidity\",               \"key\": \"*\",            \"freq\": \"TimeStep\"},\n",
        "    {\"name\": \"Zone Mean Air Humidity Ratio\",             \"key\": \"*\",            \"freq\": \"TimeStep\"},\n",
        "    {\"name\": \"Zone People Occupant Count\",               \"key\": \"*\",            \"freq\": \"TimeStep\"},\n",
        "\n",
        "    # --- CO₂ & OA into zones ---\n",
        "    {\"name\": \"Zone Air CO2 Concentration\",               \"key\": \"*\",            \"freq\": \"TimeStep\"},\n",
        "\n",
        "    # --- Site weather (Environment key) ---\n",
        "    {\"name\": \"Site Outdoor Air Drybulb Temperature\",     \"key\": \"Environment\",  \"freq\": \"TimeStep\"},\n",
        "    {\"name\": \"Site Outdoor Air Wetbulb Temperature\",     \"key\": \"Environment\",  \"freq\": \"TimeStep\"},\n",
        "    {\"name\": \"Site Outdoor Air Relative Humidity\",     \"key\": \"Environment\",  \"freq\": \"TimeStep\"},\n",
        "    {\"name\": \"Site Outdoor Air Humidity Ratio\",     \"key\": \"Environment\",  \"freq\": \"TimeStep\"},\n",
        "    {\"name\": \"Site Outdoor Air Barometric Pressure\",        \"key\": \"Environment\", \"freq\": \"TimeStep\"},\n",
        "    {\"name\": \"Site Outdoor Air CO2 Concentration\",                          \"key\": \"Environment\",  \"freq\": \"TimeStep\"},\n",
        "\n",
        "    {\"name\": \"System Node Temperature\",               \"key\": \"*\",            \"freq\": \"TimeStep\"},\n",
        "    {\"name\": \"System Node Mass Flow Rate\",               \"key\": \"*\",            \"freq\": \"TimeStep\"},\n",
        "    {\"name\": \"System Node Humidity Ratio\",               \"key\": \"*\",            \"freq\": \"TimeStep\"},\n",
        "    {\"name\": \"System Node CO2 Concentration\",               \"key\": \"*\",            \"freq\": \"TimeStep\"},\n",
        "]\n",
        "\n",
        "\n",
        "    # # --- Air system OA (scalar, per air loop) ---\n",
        "    # {\"name\": \"Air System Outdoor Air Mass Flow Rate\",    \"key\": \"\",             \"freq\": \"TimeStep\"},\n",
        "    # {\"name\": \"Air System Outdoor Air Flow Fraction\",     \"key\": \"\",             \"freq\": \"TimeStep\"},\n",
        "\n",
        "    # # --- Nodes (use * for all; swap to explicit node names if you prefer) ---\n",
        "    # {\"name\": \"System Node Mass Flow Rate\",               \"key\": \"*\",            \"freq\": \"TimeStep\"},\n",
        "    # {\"name\": \"System Node Standard Density Volume Flow Rate\", \"key\": \"*\",       \"freq\": \"TimeStep\"},\n",
        "\n",
        "    # # --- Infiltration (per zone) ---\n",
        "    # {\"name\": \"Zone Infiltration Standard Density Volume Flow Rate\", \"key\": \"*\", \"freq\": \"TimeStep\"},\n",
        "\n",
        "# 3) Ensure the Output:Variable objects exist (dedup-aware)\n",
        "util.ensure_output_variables(specs, activate=True)\n",
        "\n",
        "util.ensure_output_sqlite()\n",
        "util.verbose = 1\n",
        "util.enable_runtime_logging()\n",
        "# util.register_begin_iteration([\"occupancy_counter\"], clear=True)\n",
        "util.register_begin_iteration(\n",
        "    [{\"method_name\": \"occupancy_counter\",\n",
        "      \"kwargs\": {\"lam\": 25.0, \"min\": 24, \"max\": 27, \"seed\": 123}}],\n",
        "    clear=True,\n",
        "    run_during_warmup=False,   # set True if you want it during warmup\n",
        "    enable=True\n",
        ")\n",
        "# # register JUST this one method to start\n",
        "# util.register_begin_iteration([\n",
        "#     {\"method_name\": \"co2_set_outdoor_ppm_simple\",\n",
        "#      \"key_wargs\": {\"value_ppm\": 0.0, \"log_every_minutes\": 60, \"verify\": True}}\n",
        "# ], clear=True, run_during_warmup=False)\n",
        "# util.register_begin_iteration([\n",
        "#     {\"method_name\": \"co2_set_outdoor_ppm_debug\",\n",
        "#      \"key_wargs\": {\"value_ppm\": 0.0}}\n",
        "# ], clear=True, run_during_warmup=True)  # run during warmup so you see output throughout\n",
        "# util.register_begin_iteration([\n",
        "#     {\"method_name\": \"co2_set_outdoor_ppm\",\n",
        "#      \"key_wargs\": {\"value_ppm\": 400.0, \"log_every_minutes\": None, \"verify\": True}}\n",
        "# ], clear=True, run_during_warmup=False)\n",
        "# util.register_begin_iteration(\n",
        "#     [{\"method_name\": \"probe_zone_air_and_supply\",\n",
        "#       \"kwargs\": {\"log_every_minutes\": 1}}],\n",
        "#     clear=False,\n",
        "#     run_during_warmup=False,\n",
        "#     enable=True\n",
        "# )\n",
        "# util.register_after_hvac_reporting(\n",
        "#     [{\"method_name\": \"probe_zone_air_and_supply\",\n",
        "#       \"key_wargs\": {\"log_every_minutes\": 1, \"precision\": 3}}],\n",
        "#     clear=False, run_during_warmup=False\n",
        "# )\n",
        "# run AFTER HVAC reporting so node/site values are finalized\n",
        "# util.register_after_hvac_reporting([\n",
        "#     {\"method_name\": \"api_check_zone_humidity_ratio\",\n",
        "#      \"key_wargs\": {\"max_zones\": 5, \"precision\": 6}}\n",
        "# ], clear=False, run_during_warmup=False)\n",
        "util.register_after_hvac_reporting([\n",
        "    {\"method_name\": \"probe_zone_air_and_supply_with_kf\",\n",
        "     \"key_wargs\": {\n",
        "         \"log_every_minutes\": 15,\n",
        "         \"precision\": 3,\n",
        "         \"kf_db_filename\": \"eplusout_kf_test.sqlite\",   # or another file to keep EP DB clean\n",
        "         \"kf_batch_size\": 50,\n",
        "         \"kf_commit_every_batches\": 10,\n",
        "         \"kf_checkpoint_every_commits\": 5,\n",
        "         \"kf_journal_mode\": \"WAL\",\n",
        "         \"kf_synchronous\": \"NORMAL\",\n",
        "         \"kf_nonneg_idx\":[3,4]\n",
        "     }}\n",
        "], clear=False, run_during_warmup=False)\n",
        "# util.register_after_hvac_reporting([\n",
        "#     {\"method_name\": \"kf_dummy_sql_writer_fast\",\n",
        "#      \"key_wargs\": {\n",
        "#          \"table\": \"KalmanEstimatesTest\",\n",
        "#          \"db_filename\": \"eplusout_kf_test.sqlite\",\n",
        "#          \"batch_size\": 100,\n",
        "#          \"commit_every_batches\": 5,\n",
        "#          \"checkpoint_every_commits\": 2,\n",
        "#          \"log_every_ticks\": 1000,          # much less spammy\n",
        "#          \"run_during_warmup\": False,\n",
        "#          \"journal_mode\": \"WAL\",\n",
        "#          \"synchronous\": \"NORMAL\"\n",
        "#      }}\n",
        "# ], clear=True)\n",
        "rc=util.run_annual()"
      ],
      "metadata": {
        "id": "7aAeA07ulT32"
      },
      "execution_count": null,
      "outputs": []
    },
    {
      "cell_type": "code",
      "source": [
        "probe_zone_air_and_supply_with_kf"
      ],
      "metadata": {
        "id": "CO6PdrdBKffQ"
      },
      "execution_count": null,
      "outputs": []
    },
    {
      "cell_type": "code",
      "source": [
        "util.state"
      ],
      "metadata": {
        "id": "oWPAfe8MYhAW"
      },
      "execution_count": null,
      "outputs": []
    },
    {
      "cell_type": "markdown",
      "source": [
        "### Table Inspect"
      ],
      "metadata": {
        "id": "eqj23tiEvSHx"
      }
    },
    {
      "cell_type": "code",
      "source": [
        "xp = EPlusSqlExplorer(f\"{out_dir}/eplusout.sql\")"
      ],
      "metadata": {
        "id": "XBUyMDrIvUu7"
      },
      "execution_count": null,
      "outputs": []
    },
    {
      "cell_type": "code",
      "source": [
        "xp.list_tables()"
      ],
      "metadata": {
        "id": "B3efRcS_v_jC"
      },
      "execution_count": null,
      "outputs": []
    },
    {
      "cell_type": "code",
      "source": [
        "df = xp.list_sql_variables(name=\"System Node Temperature\")\n",
        "df[['KeyValue','n_rows']].head(20)"
      ],
      "metadata": {
        "id": "L4VY8MFaO8hn"
      },
      "execution_count": null,
      "outputs": []
    },
    {
      "cell_type": "code",
      "source": [
        "df.to_dict()"
      ],
      "metadata": {
        "id": "qrdea8qgT9j5"
      },
      "execution_count": null,
      "outputs": []
    },
    {
      "cell_type": "code",
      "source": [
        "df"
      ],
      "metadata": {
        "id": "2npwEn6mQ0wq"
      },
      "execution_count": null,
      "outputs": []
    },
    {
      "cell_type": "markdown",
      "source": [
        "### Analyze weather data"
      ],
      "metadata": {
        "id": "bu8DvighZhqZ"
      }
    },
    {
      "cell_type": "code",
      "source": [
        "# util.ensure_output_sqlite()\n",
        "site_vars = [\n",
        "    \"Site Outdoor Air Drybulb Temperature\",\n",
        "    \"Site Outdoor Air Dewpoint Temperature\",\n",
        "    \"Site Outdoor Air Humidity Ratio\",\n",
        "    \"Site Outdoor Air Barometric Pressure\",\n",
        "    \"Site Wind Speed\",\n",
        "    \"Site Wind Direction\",\n",
        "    \"Site Diffuse Solar Radiation Rate per Area\",\n",
        "    \"Site Direct Solar Radiation Rate per Area\",\n",
        "    \"Site Horizontal Infrared Radiation Rate per Area\",\n",
        "    \"Site Sky Temperature\",\n",
        "]\n",
        "util.ensure_output_sqlite()\n",
        "util.ensure_output_variables(\n",
        "    [{'name': v, 'key': 'Environment', 'freq': 'TimeStep'} for v in site_vars]\n",
        ")\n",
        "util.run_annual()"
      ],
      "metadata": {
        "id": "UHT_O9VMkcbQ"
      },
      "execution_count": null,
      "outputs": []
    },
    {
      "cell_type": "code",
      "source": [
        "util.export_weather_sql_to_csv()"
      ],
      "metadata": {
        "id": "grYl7tD9aWVZ"
      },
      "execution_count": null,
      "outputs": []
    },
    {
      "cell_type": "code",
      "source": [
        "weather_df=pd.read_csv('eplus_out/weather_timeseries.csv')\n",
        "weather_df['timestamp'] = pd.to_datetime(weather_df['timestamp'])\n",
        "weather_df['month'] = weather_df['timestamp'].dt.month"
      ],
      "metadata": {
        "id": "O4BMbdMYlZe4"
      },
      "execution_count": null,
      "outputs": []
    },
    {
      "cell_type": "code",
      "source": [
        "weather_df"
      ],
      "metadata": {
        "id": "R1Aes_5SlqXm"
      },
      "execution_count": null,
      "outputs": []
    },
    {
      "cell_type": "code",
      "metadata": {
        "id": "915f2e0c"
      },
      "source": [
        "import numpy as np\n",
        "from scipy.stats import norm, lognorm, gamma\n",
        "import plotly.graph_objects as go\n",
        "from plotly.subplots import make_subplots\n",
        "\n",
        "# Extract the temperature data\n",
        "variable='Site Outdoor Air Humidity Ratio [kgWater/kgDryAir]'#'Site Outdoor Air Dewpoint Temperature [C]' #'Site Outdoor Air Drybulb Temperature [C]' #\n",
        "n=9\n",
        "data_df = weather_df[weather_df['month']==n]\n",
        "data = data_df[variable]\n",
        "\n",
        "# Fit a normal distribution to the data:\n",
        "mu, std = norm.fit(data)\n",
        "\n",
        "# Create the histogram trace from the previous plot\n",
        "counts, bin_edges = np.histogram(data, bins=50) # Adjust bin count as needed\n",
        "bin_centers = 0.5 * (bin_edges[:-1] + bin_edges[1:])\n",
        "\n",
        "histogram_trace = go.Bar(x=bin_centers, y=counts, name='Histogram', opacity=0.7)\n",
        "\n",
        "# Create the Gaussian curve trace\n",
        "xmin, xmax = data.min(), data.max()\n",
        "x_norm = np.linspace(xmin, xmax, 100)\n",
        "p_norm = norm.pdf(x_norm, mu, std)\n",
        "\n",
        "# Scale the PDF to match the histogram's count scale\n",
        "bin_width = bin_edges[1] - bin_edges[0]\n",
        "scaled_pdf_norm = p_norm * len(data) * bin_width\n",
        "\n",
        "gaussian_trace = go.Scatter(x=x_norm, y=scaled_pdf_norm, mode='lines', name=f'Gaussian Fit (μ={mu:.2f}, σ={std:.2f})', line=dict(color='red', width=2))\n",
        "\n",
        "# Fit Log-Normal distribution\n",
        "# Log-normal distribution requires positive data. Since temperature can be negative,\n",
        "# a simple log-normal fit might not be appropriate directly.\n",
        "# However, for demonstration, we can fit it to the positive part or shift the data.\n",
        "# Let's fit it to the original data, understanding the limitations if negative values exist.\n",
        "# We need to be careful if temperature_data contains zero or negative values for lognorm fit.\n",
        "# For simplicity, we'll add an offset if there are non-positive values.\n",
        "offset = 0\n",
        "if (data <= 0).any():\n",
        "    offset = -data.min() + 1 # Shift data to be positive\n",
        "    print(f\"Shifting data by {offset:.2f} for Log-Normal fit to ensure positivity.\")\n",
        "\n",
        "shape_lognorm, loc_lognorm, scale_lognorm = lognorm.fit(data + offset)\n",
        "\n",
        "# Generate points for the fitted Log-Normal curve\n",
        "# Ensure the x range is appropriate for the shifted data\n",
        "x_lognorm = np.linspace(data.min() + offset, data.max() + offset, 100)\n",
        "p_lognorm = lognorm.pdf(x_lognorm, shape_lognorm, loc_lognorm, scale_lognorm)\n",
        "\n",
        "# Scale the PDF and shift x back for plotting\n",
        "scaled_pdf_lognorm = p_lognorm * len(data) * bin_width\n",
        "x_lognorm_unshifted = x_lognorm - offset\n",
        "\n",
        "lognormal_trace = go.Scatter(x=x_lognorm_unshifted, y=scaled_pdf_lognorm, mode='lines', name=f'Log-Normal Fit', line=dict(color='green', width=2))\n",
        "\n",
        "\n",
        "# Fit Gamma distribution\n",
        "# Gamma distribution also typically requires positive data. Similar consideration as Log-Normal.\n",
        "# We'll fit it to the shifted data if an offset was applied for lognormal.\n",
        "shape_gamma, loc_gamma, scale_gamma = gamma.fit(data + offset)\n",
        "\n",
        "# Generate points for the fitted Gamma curve\n",
        "# Ensure the x range is appropriate for the shifted data\n",
        "x_gamma = np.linspace(data.min() + offset, data.max() + offset, 100)\n",
        "p_gamma = gamma.pdf(x_gamma, shape_gamma, loc_gamma, scale_gamma)\n",
        "\n",
        "# Scale the PDF and shift x back for plotting\n",
        "scaled_pdf_gamma = p_gamma * len(data) * bin_width\n",
        "x_gamma_unshifted = x_gamma - offset\n",
        "\n",
        "\n",
        "gamma_trace = go.Scatter(x=x_gamma_unshifted, y=scaled_pdf_gamma, mode='lines', name=f'Gamma Fit', line=dict(color='purple', width=2))\n",
        "\n",
        "\n",
        "# Create the figure and add traces\n",
        "fig = go.Figure()\n",
        "fig.add_trace(histogram_trace)\n",
        "fig.add_trace(gaussian_trace)\n",
        "fig.add_trace(lognormal_trace)\n",
        "fig.add_trace(gamma_trace)\n",
        "\n",
        "\n",
        "# Update layout\n",
        "fig.update_layout(title=f'Distribution of {variable} with Distribution Fits',\n",
        "                  xaxis_title=variable,\n",
        "                  yaxis_title='Count',\n",
        "                  barmode='overlay' # Overlay bars to see fits better\n",
        "                 )\n",
        "\n",
        "# Show the plot\n",
        "fig.show()"
      ],
      "execution_count": null,
      "outputs": []
    },
    {
      "cell_type": "markdown",
      "source": [
        "### Plot Results"
      ],
      "metadata": {
        "id": "za_yN72iH3F8"
      }
    },
    {
      "cell_type": "markdown",
      "source": [
        "#### Zone plots"
      ],
      "metadata": {
        "id": "J4MpmY0QfQs7"
      }
    },
    {
      "cell_type": "code",
      "source": [
        "# Drybulb (auto-picks top zone keys if keys=None)\n",
        "fig1=util.plot_sql_zone_variable(\n",
        "    \"Zone Mean Air Temperature\",\n",
        "    keys=[\"*\"],                          # auto-pick a few zones with data\n",
        "    reporting_freq=(\"TimeStep\",),       # match how you logged\n",
        "    resample=\"1h\",\n",
        "    title=\"Zone Mean Air Temperature\"\n",
        ")\n",
        "\n",
        "# Humidity ratio\n",
        "fig2=util.plot_sql_zone_variable(\n",
        "    \"Zone Mean Air Humidity Ratio\",\n",
        "    keys=[\"*\"],\n",
        "    reporting_freq=(\"TimeStep\",),\n",
        "    resample=\"1h\",\n",
        "    title=\"Zone Mean Air Humidity Ratio\"\n",
        ")\n",
        "\n",
        "# CO2 concentration\n",
        "fig3=util.plot_sql_zone_variable(\n",
        "    \"Zone Air CO2 Concentration\",\n",
        "    keys={\"*\"},\n",
        "    reporting_freq=(\"TimeStep\",),\n",
        "    resample=\"1h\",\n",
        "    title=\"Zone Air CO2 Concentration\"\n",
        ")"
      ],
      "metadata": {
        "id": "n0OOntAyc8W3"
      },
      "execution_count": null,
      "outputs": []
    },
    {
      "cell_type": "markdown",
      "source": [
        "#### Outdoor Air Plots"
      ],
      "metadata": {
        "id": "p9tOVLq4fVfe"
      }
    },
    {
      "cell_type": "code",
      "source": [
        "sels = [\n",
        "    {\"kind\":\"var\", \"name\":\"Site Outdoor Air Drybulb Temperature\", \"key\":\"Environment\", \"label\":\"Tdb [C]\"},\n",
        "    {\"kind\":\"var\", \"name\":\"Site Outdoor Air Humidity Ratio\",      \"key\":\"Environment\", \"label\":\"w [kg/kg]\"},\n",
        "]\n",
        "fig4=util.plot_sql_series(\n",
        "    selections=sels,\n",
        "    reporting_freq=(\"TimeStep\",),\n",
        "    include_design_days=False,\n",
        "    resample=\"1h\",\n",
        "    meters_to_kwh=False,\n",
        "    title=\"Outdoor (Environment)\"\n",
        ")"
      ],
      "metadata": {
        "id": "_qJZiTjwsTMW"
      },
      "execution_count": null,
      "outputs": []
    },
    {
      "cell_type": "markdown",
      "source": [
        "#### Supply Air Plots"
      ],
      "metadata": {
        "id": "3fHqepdEfdot"
      }
    },
    {
      "cell_type": "code",
      "source": [
        "z2nodes = util._discover_zone_inlet_nodes_from_sql()\n",
        "zone = \"SPACE1-1\"\n",
        "sels = [{\"kind\":\"var\", \"name\":\"System Node Mass Flow Rate\", \"key\":n, \"label\":n} for n in z2nodes[zone]]\n",
        "fig5=util.plot_sql_series(\n",
        "    selections=sels,\n",
        "    reporting_freq=(\"TimeStep\",),\n",
        "    resample=\"15min\",\n",
        "    meters_to_kwh=False,\n",
        "    title=f\"{zone} — Supply Node Mass Flow Rate\"\n",
        ")"
      ],
      "metadata": {
        "id": "sUGPi36sujoC"
      },
      "execution_count": null,
      "outputs": []
    },
    {
      "cell_type": "code",
      "source": [
        "zone = \"SPACE1-1\"\n",
        "sels = [{\"kind\":\"var\", \"name\":\"System Node Temperature\", \"key\":n, \"label\":n} for n in z2nodes[zone]]\n",
        "fig6=util.plot_sql_series(selections=sels, reporting_freq=(\"TimeStep\",), resample=\"15min\",\n",
        "                     meters_to_kwh=False, title=f\"{zone} — Supply Node Temperature\")"
      ],
      "metadata": {
        "id": "FjiGNycItMxD"
      },
      "execution_count": null,
      "outputs": []
    },
    {
      "cell_type": "code",
      "source": [
        "zone = \"SPACE1-1\"\n",
        "sels = [{\"kind\":\"var\", \"name\":\"System Node Humidity Ratio\", \"key\":n, \"label\":n} for n in z2nodes[zone]]\n",
        "fig7=util.plot_sql_series(selections=sels, reporting_freq=(\"TimeStep\",), resample=\"15min\",\n",
        "                     meters_to_kwh=False, title=f\"{zone} — Supply Node Humidity Ratio\")"
      ],
      "metadata": {
        "id": "okYeNmomeGw2"
      },
      "execution_count": null,
      "outputs": []
    },
    {
      "cell_type": "code",
      "source": [
        "zone = \"SPACE1-1\"\n",
        "sels = [{\"kind\":\"var\", \"name\":\"System Node CO2 Concentration\", \"key\":n, \"label\":n} for n in z2nodes[zone]]\n",
        "fig8=util.plot_sql_series(selections=sels, reporting_freq=(\"TimeStep\",), resample=\"15min\",\n",
        "                     meters_to_kwh=False, title=f\"{zone} — Supply Node CO2 Concentration\")"
      ],
      "metadata": {
        "id": "p1SSjgV_e5WU"
      },
      "execution_count": null,
      "outputs": []
    },
    {
      "cell_type": "markdown",
      "source": [
        "#### Covariance plots"
      ],
      "metadata": {
        "id": "NzoX-5Ftfiex"
      }
    },
    {
      "cell_type": "code",
      "source": [
        "# 1) discover the exact zone keys present for the occupancy variable\n",
        "occ_keys = (\n",
        "    util.list_sql_zone_variables(\n",
        "        name='Zone People Occupant Count',\n",
        "        reporting_freq=None,              # don't filter; show all\n",
        "        include_design_days=False\n",
        "    )['KeyValue']\n",
        "    .dropna().astype(str).tolist()\n",
        ")\n",
        "\n",
        "# 2) build selections using those keys (so keys and zones match the DB)\n",
        "# output_sels = [\n",
        "#     {'kind':'var','name':'Zone Mean Air Temperature','key':k,'label':f'MAT: {k}'}\n",
        "#     for k in occ_keys\n",
        "# ] + [\n",
        "#     {'kind':'var','name':'Zone Air Relative Humidity','key':k,'label':f'ARH: {k}'}\n",
        "#     for k in occ_keys\n",
        "# ] +\n",
        "# output_sels =  [\n",
        "#     {'kind':'var','name':'Zone Air System Sensible Cooling Energy','key':k,'label':f'QSEN: {k}'}\n",
        "#     for k in occ_keys\n",
        "# ]\n",
        "# + [\n",
        "#     {'kind':'var','name':'Zone Total Internal Latent Gain Energy','key':k,'label':f'QLAT: {k}'}\n",
        "#     for k in occ_keys\n",
        "# ]\n",
        "output_sels = [\n",
        "    {'kind':'var','name':'Zone Air CO2 Concentration','key':k,'label':f'CO2: {k}'}\n",
        "    for k in occ_keys\n",
        "]\n",
        "\n",
        "control_sels = (\n",
        "    [{'kind':'var','name':'Zone People Occupant Count','key':k,'label':f'Occ: {k}'} for k in occ_keys]\n",
        "    # + [\n",
        "    #     {'kind':'var','name':'Site Outdoor Air Drybulb Temperature','key':'Environment','label':'OAT'},\n",
        "    #     {'kind':'var','name':'Site Outdoor Air Wetbulb Temperature','key':'Environment','label':'OWB'},\n",
        "    # ]\n",
        ")\n",
        "\n",
        "# 3) plot covariance (pull any freq; we resample to 1H anyway)\n",
        "fig = util.plot_sql_cov_heatmap(\n",
        "    control_sels=control_sels,\n",
        "    output_sels=output_sels,\n",
        "    reporting_freq=None,     # <- don't filter out Zone Timestep rows\n",
        "    resample='1h',           # compute cov on hourly series\n",
        "    reduce='mean',\n",
        "    stat='cov',              # or 'corr' if you want scale-free\n",
        "    min_periods=12,\n",
        "    include_design_days=False\n",
        ")"
      ],
      "metadata": {
        "id": "_F21kIhCuAFE"
      },
      "execution_count": null,
      "outputs": []
    },
    {
      "cell_type": "markdown",
      "source": [
        "#### Occupant plot"
      ],
      "metadata": {
        "id": "lkRZJ1kwqXBr"
      }
    },
    {
      "cell_type": "code",
      "source": [
        "# 1) discover zone keys that exist for the variable\n",
        "occ_keys = (\n",
        "    util.list_sql_zone_variables(\n",
        "        name='Zone People Occupant Count',\n",
        "        reporting_freq=None,            # don't filter; accept Zone Timestep, Hourly, etc.\n",
        "        include_design_days=False\n",
        "    )['KeyValue']\n",
        "    .dropna().astype(str).tolist()\n",
        ")\n",
        "\n",
        "# (optional) limit to first N zones\n",
        "# occ_keys = occ_keys[:8]\n",
        "\n",
        "# 2) build selections and plot\n",
        "selections = [\n",
        "    {'kind':'var', 'name':'Zone People Occupant Count', 'key':k, 'label':k}\n",
        "    for k in occ_keys\n",
        "]\n",
        "\n",
        "fig = util.plot_sql_series(\n",
        "    selections=selections,\n",
        "    reporting_freq=None,      # pull whatever is in the DB\n",
        "    resample='1h',            # average to hourly; set to None for native timestep\n",
        "    aggregate_vars='mean',    # hourly mean occupancy; use 'sum' for person-hours per hour\n",
        "    title='Occupant Count per Zone',\n",
        "    show=True\n",
        ")"
      ],
      "metadata": {
        "id": "iG4d63R_2QRU"
      },
      "execution_count": null,
      "outputs": []
    },
    {
      "cell_type": "markdown",
      "source": [
        "#### Other plots"
      ],
      "metadata": {
        "id": "_c35vjUQfk2L"
      }
    },
    {
      "cell_type": "code",
      "source": [
        "xp=EPlusSqlExplorer(sql_path=\"eplus_out/eplusout_kf_test.sqlite\")"
      ],
      "metadata": {
        "id": "ALUCKFSFS4nH"
      },
      "execution_count": null,
      "outputs": []
    },
    {
      "cell_type": "code",
      "source": [],
      "metadata": {
        "id": "3GZO5T0YTpp_"
      },
      "execution_count": null,
      "outputs": []
    },
    {
      "cell_type": "code",
      "source": [
        "# If you used the suggested test DB/table names:\n",
        "df = xp.get_table_data(db=\"eplus_out/eplusout_kf_test.sqlite\", table=\"KalmanEstimates\")\n"
      ],
      "metadata": {
        "id": "_hJi1navxu-V"
      },
      "execution_count": null,
      "outputs": []
    },
    {
      "cell_type": "code",
      "source": [
        "df"
      ],
      "metadata": {
        "id": "obL5TIUpnzsu"
      },
      "execution_count": null,
      "outputs": []
    },
    {
      "cell_type": "code",
      "source": [
        "zone1_df=df[df[\"Zone\"]==\"SPACE1-1\"]\n",
        "zone1_df"
      ],
      "metadata": {
        "id": "PuwGl2y5qvN7"
      },
      "execution_count": null,
      "outputs": []
    },
    {
      "cell_type": "code",
      "metadata": {
        "id": "5f00f6b4"
      },
      "source": [
        "import plotly.graph_objects as go\n",
        "\n",
        "def plot_df_columns(df, x_column, trace_columns):\n",
        "    \"\"\"\n",
        "    Generates a plotly line plot for specified columns in a DataFrame.\n",
        "\n",
        "    Args:\n",
        "        df: pandas DataFrame\n",
        "        x_column: Name of the column to use for the x-axis.\n",
        "        trace_columns: A list of column names to plot as separate traces on the y-axis.\n",
        "\n",
        "    Returns:\n",
        "        A plotly Figure object.\n",
        "    \"\"\"\n",
        "    fig = go.Figure()\n",
        "\n",
        "    for col in trace_columns:\n",
        "        if col in df.columns:\n",
        "            fig.add_trace(go.Scattergl(x=df[x_column], y=df[col], mode='lines', name=col))\n",
        "        else:\n",
        "            print(f\"Warning: Column '{col}' not found in DataFrame.\")\n",
        "\n",
        "    fig.update_layout(\n",
        "        title=\"Line Plot of DataFrame Columns\",\n",
        "        xaxis_title=x_column,\n",
        "        yaxis_title=\"Value\"\n",
        "    )\n",
        "\n",
        "    return fig\n",
        "\n",
        "# Example usage with your 'zone1_df'\n",
        "# Make sure 'Timestamp' is a datetime type for proper plotting\n",
        "if 'Timestamp' in zone1_df.columns:\n",
        "    zone1_df['Timestamp'] = pd.to_datetime(zone1_df['Timestamp'])\n",
        "\n",
        "# Define the columns to plot\n",
        "x_col = 'Timestamp'\n",
        "y_cols = ['y_w', 'yhat_w', 'alpha_m', 'beta_w']\n",
        "\n",
        "# Generate and show the plot\n",
        "fig = plot_df_columns(zone1_df, x_col, y_cols)\n",
        "fig.show()"
      ],
      "execution_count": null,
      "outputs": []
    },
    {
      "cell_type": "code",
      "source": [],
      "metadata": {
        "id": "sO9dkRt6q5fs"
      },
      "execution_count": null,
      "outputs": []
    },
    {
      "cell_type": "code",
      "source": [
        "cols = [\"Timestamp\",\"Zone\",\"y_T\",\"yhat_T\",\"alpha_T\",\"beta_T\"]\n",
        "df = inspect_kf_sql(\n",
        "    util,\n",
        "    columns=cols,\n",
        "    where=\"Zone='SPACE1-1' AND Timestamp >= '2013-12-01'\",\n",
        "    as_datetime=True\n",
        ")"
      ],
      "metadata": {
        "id": "znxOdX41Bsmh"
      },
      "execution_count": null,
      "outputs": []
    },
    {
      "cell_type": "code",
      "source": [
        "df[:10].to_dict(orient='records')"
      ],
      "metadata": {
        "id": "KfWSm0wJANGr"
      },
      "execution_count": null,
      "outputs": []
    },
    {
      "cell_type": "code",
      "source": [
        "variable=\"System Node Mass Flow Rate\"  #\"System Node Temperature\" #\"Site Outdoor Air Barometric Pressure\"#\"Zone Inlet Air CO2 Concentration\"#\"Site Outdoor Air Relative Humidity\" #\"Zone Air Relative Humidity\" #\"Zone Outdoor Air Inlet Mass Flow Rate\" #\"Zone Infiltration Standard Density Volume Flow Rate\" #'Site Outdoor Air Wetbulb Temperature' #\"Zone Mean Air Temperature\" #\"Zone Air Relative Humidity\" #\"Zone Air CO2 Concentration\" #\"System Node Mass Flow Rate\" #\"Zone Air CO2 Concentration\" #\"Zone Air Relative Humidity\" #\"Zone Air Temperature\"\n",
        "# 4) discover keys and plot\n",
        "display(util.list_sql_zone_variables(name=variable).head(10))"
      ],
      "metadata": {
        "id": "p1coi0w0dn5b"
      },
      "execution_count": null,
      "outputs": []
    },
    {
      "cell_type": "code",
      "source": [
        "zone_fig=util.plot_sql_zone_variable(\n",
        "    variable,\n",
        "    keys=[\"*\"], #[\"SPACE1-1\",\"SPACE2-1\",\"SPACE3-1\",\"SPACE4-1\",\"SPACE5-1\",\"PLENUM-1\"], #[\"Environment\"],#\n",
        "    resample=\"1h\",\n",
        "    title=f\"{variable} (Hourly Mean)\"\n",
        ")"
      ],
      "metadata": {
        "id": "NrsORnZyZ1ck"
      },
      "execution_count": null,
      "outputs": []
    },
    {
      "cell_type": "code",
      "source": [
        "util.plot_sql_series([\n",
        "    # {\"kind\":\"var\",\"name\":\"Zone Air CO2 Concentration\",\"key\":\"SPACE1-1\",\"label\":\"CO2 SPACE1-1\"},\n",
        "    {\"kind\":\"var\",\"name\":\"Air System Outdoor Air Mass Flow Rate\",\"key\":\"*\",\"label\":\"OA ṁ SPACE1-1\"},\n",
        "    # system-level node is also helpful (replace with your OA node key if different):\n",
        "    {\"kind\":\"var\",\"name\":\"System Node Mass Flow Rate\",\"key\":\"*\",\"label\":\"OA node V̇\"},\n",
        "], reporting_freq=(\"TimeStep\",\"Hourly\"), resample=\"15min\", meters_to_kwh=False)"
      ],
      "metadata": {
        "id": "vuqpQ7C7WfDu"
      },
      "execution_count": null,
      "outputs": []
    },
    {
      "cell_type": "code",
      "source": [
        "# What “Zone … Outdoor Air …” style vars exist?\n",
        "util.list_sql_zone_variables(like=\"Zone %Outdoor Air%\")\n",
        "\n",
        "# Node-based flow variables (system-level). Then skim keys that look like OA nodes.\n",
        "util.list_sql_zone_variables(name=\"System Node Mass Flow Rate\")\n",
        "util.list_sql_zone_variables(name=\"System Node Standard Density Volume Flow Rate\")\n",
        "\n",
        "# Controller/airloop scalar:\n",
        "util.list_sql_zone_variables(name=\"Air System Outdoor Air Flow Fraction\")\n"
      ],
      "metadata": {
        "id": "o-ezeDqZb7Ce"
      },
      "execution_count": null,
      "outputs": []
    },
    {
      "cell_type": "code",
      "source": [
        "# 1) Name of the schedule you actuate (created by prepare_run_with_co2)\n",
        "sched = getattr(util, \"_co2_outdoor_schedule\", \"CO2-Outdoor-Actuated\")\n",
        "print(\"Schedule:\", sched)\n",
        "\n",
        "# 2) Ensure SQL is produced and ask E+ to record that schedule’s value each timestep\n",
        "util.ensure_output_sqlite()\n",
        "util.ensure_output_variables([{\n",
        "    \"name\": \"Schedule Value\",   # this is the reporting variable name\n",
        "    \"key\":  sched,              # must match the schedule's name exactly\n",
        "    \"freq\": \"TimeStep\",         # or \"Hourly\" if you prefer\n",
        "}], activate=True, reset=True)\n",
        "\n",
        "# 3) Run a quick design-day (or annual if you prefer)\n",
        "util.run_design_day()  # or util.run_annual()\n",
        "\n",
        "# 4) Plot from SQL\n",
        "fig = util.plot_sql_series(\n",
        "    selections=[{\n",
        "        \"kind\": \"var\",\n",
        "        \"name\": \"Schedule Value\",\n",
        "        \"key\":  sched,\n",
        "        \"label\": \"Outdoor CO₂ [ppm]\",\n",
        "    }],\n",
        "    reporting_freq=(\"TimeStep\",),   # match what you requested\n",
        "    include_design_days=False,\n",
        "    resample=\"1H\",                  # None for raw\n",
        "    meters_to_kwh=False,\n",
        "    title=\"Outdoor CO₂ Schedule (Actuated)\",\n",
        "    show=True,\n",
        ")"
      ],
      "metadata": {
        "id": "3eiSZMVK7Z-P"
      },
      "execution_count": null,
      "outputs": []
    },
    {
      "cell_type": "code",
      "source": [],
      "metadata": {
        "id": "A18z18mntXM9"
      },
      "execution_count": null,
      "outputs": []
    },
    {
      "cell_type": "code",
      "source": [
        "util.list_sql_zone_variables(name=\"Air System Outdoor Air Mass Flow Rate\")"
      ],
      "metadata": {
        "id": "Tzy0fJzmeBVY"
      },
      "execution_count": null,
      "outputs": []
    },
    {
      "cell_type": "code",
      "source": [
        "# 3) See what meters actually have rows\n",
        "for m in output_meteres:\n",
        "    display(util.inspect_sql_meter(m, include_design_days=True))\n",
        "\n",
        "# 4) Plot site electricity (facility)\n",
        "elect_fig=util.plot_sql_meters(\n",
        "    output_meteres,\n",
        "    reporting_freq=(\"TimeStep\",\"Hourly\"),\n",
        "    include_design_days=False,\n",
        "    resample=\"1h\",               # sum to hourly kWh\n",
        "    meters_to_kwh=True,\n",
        "    title=f\"{', '.join(output_meteres)}\"\n",
        ")\n",
        "\n",
        "# (optional) Net purchased if you enabled those two meters:\n",
        "# elect_purchased=util.plot_sql_net_purchased_electricity(resample=\"1h\")"
      ],
      "metadata": {
        "id": "VIxBxCXGik7t"
      },
      "execution_count": null,
      "outputs": []
    },
    {
      "cell_type": "code",
      "source": [
        "occ_keys = (\n",
        "    util.list_sql_zone_variables(\n",
        "        name='Zone People Occupant Count',\n",
        "        reporting_freq=None,              # don't filter; show all\n",
        "        include_design_days=False\n",
        "    )['KeyValue']\n",
        "    .dropna().astype(str).tolist()\n",
        ")"
      ],
      "metadata": {
        "id": "HP7MQ7WwA60V"
      },
      "execution_count": null,
      "outputs": []
    },
    {
      "cell_type": "code",
      "source": [
        "occ_keys = (\n",
        "    util.list_sql_zone_variables(\n",
        "        name='Zone People Occupant Count',\n",
        "        reporting_freq=None,              # don't filter; show all\n",
        "        include_design_days=False\n",
        "    )['KeyValue']\n",
        "    .dropna().astype(str).tolist()\n",
        ")\n",
        "occ_keys"
      ],
      "metadata": {
        "id": "m0rBkQH-A8YU"
      },
      "execution_count": null,
      "outputs": []
    },
    {
      "cell_type": "code",
      "source": [
        "occ_keys"
      ],
      "metadata": {
        "id": "GZMCyRi-7ScG"
      },
      "execution_count": null,
      "outputs": []
    },
    {
      "cell_type": "code",
      "source": [
        "fig = util.plot_sql_series(\n",
        "    selections=output_sels,\n",
        "    reporting_freq=None,      # pull whatever is in the DB\n",
        "    resample='1h',            # average to hourly; set to None for native timestep\n",
        "    aggregate_vars='mean',    # hourly mean occupancy; use 'sum' for person-hours per hour\n",
        "    title='Occupant Count per Zone',\n",
        "    show=True\n",
        ")"
      ],
      "metadata": {
        "id": "ywROb2kVWuuU"
      },
      "execution_count": null,
      "outputs": []
    },
    {
      "cell_type": "code",
      "source": [
        "import simdkalman"
      ],
      "metadata": {
        "id": "1b2QUnaqAWFg"
      },
      "execution_count": null,
      "outputs": []
    },
    {
      "cell_type": "code",
      "metadata": {
        "id": "340ab03a"
      },
      "source": [
        "!pip install simdkalman"
      ],
      "execution_count": null,
      "outputs": []
    },
    {
      "cell_type": "markdown",
      "source": [
        "# SQLITE - Table Inspect"
      ],
      "metadata": {
        "id": "65eh8zAkpzIz"
      }
    },
    {
      "cell_type": "code",
      "source": [
        "xp=EPlusSqlExplorer(sql_path=\"eplus_out/eplusout_kf_test.sqlite\")"
      ],
      "metadata": {
        "id": "BButozXiRoei"
      },
      "execution_count": null,
      "outputs": []
    },
    {
      "cell_type": "code",
      "source": [
        "xp.list_tables()"
      ],
      "metadata": {
        "id": "uCAEEo74LXOB"
      },
      "execution_count": null,
      "outputs": []
    },
    {
      "cell_type": "markdown",
      "source": [
        "# Documentation"
      ],
      "metadata": {
        "id": "8kM71uL2jhOn"
      }
    },
    {
      "cell_type": "markdown",
      "source": [
        "https://energyplus.net/assets/nrel_custom/pdfs/pdfs_v25.1.0/EngineeringReference.pdf"
      ],
      "metadata": {
        "id": "vYXi0kXsjkoy"
      }
    },
    {
      "cell_type": "markdown",
      "source": [
        "https://energyplus.net/assets/nrel_custom/pdfs/pdfs_v24.1.0/InputOutputReference.pdf"
      ],
      "metadata": {
        "id": "oon6UqzUjmRT"
      }
    },
    {
      "cell_type": "markdown",
      "source": [
        "# Sri Lanka Weather Data"
      ],
      "metadata": {
        "id": "1dKreA8c9tsj"
      }
    },
    {
      "cell_type": "markdown",
      "source": [
        "https://climate.onebuilding.org/WMO_Region_2_Asia/LKA_Sri_Lanka/index.html"
      ],
      "metadata": {
        "id": "QDa_0OnU9xcZ"
      }
    },
    {
      "cell_type": "markdown",
      "source": [
        "#HVAC Design"
      ],
      "metadata": {
        "id": "Jbg03qdxLvuB"
      }
    },
    {
      "cell_type": "markdown",
      "source": [
        "* https://www.mdpi.com/1996-1073/16/20/7124\n",
        "* https://www.mdpi.com/2071-1050/17/5/1955\n",
        "* https://discovery.ucl.ac.uk/id/eprint/10116413/1/manuscript%20baycal.pdf\n",
        "* https://arxiv.org/pdf/2508.09118#:~:text=Page%202,(7)\n",
        "* https://link.springer.com/article/10.1007/s12273-025-1300-4\n",
        "* https://www.mdpi.com/2075-5309/13/2/314?\n",
        "* (Bayes) https://www.sciencedirect.com/science/article/pii/S0306261925013017"
      ],
      "metadata": {
        "id": "W7V-dcZ5X556"
      }
    },
    {
      "cell_type": "markdown",
      "source": [
        "A compact state-space model for a single zone with temperature, moisture, and $CO_2$ dynamics.\n",
        "\n",
        "\n",
        "### **Zone Temperature (Sensible Energy)**\n",
        "\\begin{align}\n",
        "C_s \\dot T_z =\n",
        "- UA\\,T_z - c_{pa}(m_{inf}+m_{sa})T_z\n",
        "\\ +\\ UA\\,T_o + c_{pa} m_{inf} T_o + c_{pa} m_{sa} T_{sa}\n",
        "+ Q_{bg} + f_c\\,q^{occ}_{sens} N\n",
        "\\end{align}\n",
        "where:\n",
        "- $C_s$ = effective sensible thermal capacitance $[J/K]$\n",
        "- $UA$ = overall heat transfer conductance $[W/K]$\n",
        "- $c_{pa}$ = specific heat of air $[\\approx 1006~J/(kg\\,K)]$\n",
        "- $m_{inf}$, $m_{sa}$ = outdoor- infiltration/supply air flow rates $[kg/s]$\n",
        "- $T_o$, $T_z$, $T_{sa}$ = outdoor, zone, supply air temperatures $[^\\circ C]$\n",
        "- $Q_{bg}$, $q^{occ}_{sens}$ = background and per-person sensible heat gains $[W]$\n",
        "- $f_c$ = convective fraction of sensible internal gain\n",
        "- $N$ = number of occupants\n",
        "\n",
        "***\n",
        "\n",
        "### **Zone Humidity Ratio (Moisture)**\n",
        "\\begin{align}\n",
        "M\\dot\\omega_z =\n",
        "- (m_{inf} + m_{sa}) \\omega_z\n",
        "\\ +\\ m_{inf} \\omega_o + m_{sa} \\omega_{sa}\n",
        " + G_{bg} + g^{occ}_v N\n",
        "\\end{align}\n",
        "where:\n",
        "- $M$ = zone dry air mass or effective moisture capacity $$[kg_{dry}]$$\n",
        "- $\\omega_o,\\, \\omega_z,\\, \\omega_{sa}$ = outdoor, zone, supply air humidity ratios $[kg/kg_{dry}]$\n",
        "- $G_{bg}$, $g^{occ}_v$ = background and per-person vapor gains $$[kg/s]$$\n",
        "\n",
        "***\n",
        "\n",
        "### **Zone $CO_2$ Concentration**\n",
        "\\begin{align}\n",
        "M\\dot c_z =\n",
        "- (m_{inf} + m_{sa}) c_z\n",
        "\\ +\\ m_{inf} c_o + m_{sa} c_{sa}\n",
        " + g_{CO2}^{occ} N\n",
        "\\end{align}\n",
        "where:\n",
        "- $c_o,\\, c_z,\\, c_{sa}$ = outdoor, zone, supply air $CO_2$ concentrations $[kg/kg_{dry}]$\n",
        "- $g^{occ}_{CO2}$ = per-person $CO_2$ generation rate $[kg/s]$.\n",
        "\n",
        "***\n",
        "\n",
        "These forms are **physically complete, transparent, and directly express the conservation of energy, mass (moisture), and tracer (CO₂) for an air-conditioned zone** with standard HVAC inputs and disturbances.[6][7]\n",
        "\n",
        "**References:**  \n",
        "-  \"Physical Model of an Air-Conditioned Space for Control Analysis,\" AIVC, see equations for energy and mass balances.[6]\n",
        "-  \"Cooling Load Calculations and Principles,\" CED Engineering, see zone and air mass conservation sections.[7]\n",
        "\n",
        "[1](https://hvacvn.com/wp-content/uploads/2015/10/hvac-equations-data-and-rules-of-thumb.pdf)\n",
        "[2](https://hvacsimplified.in/wp-content/uploads/2022/02/All-In-One-HVAC-Calculation-Formulas.pdf)\n",
        "[3](https://www.pdhonline.com/courses/m378/m378content.pdf)\n",
        "[4](https://www.av8rdas.com/uploads/1/0/3/2/103277290/supplemental_information_appendix_01_-_useful_equations_r6.pdf)\n",
        "[5](https://www.scribd.com/document/505484310/HVAC-Simplified)\n",
        "[6](https://www.aivc.org/sites/default/files/airbase_12998.pdf)\n",
        "[7](https://www.cedengineering.com/userfiles/M06-004%20-%20Cooling%20Load%20Calculations%20and%20Principles%20-%20US.pdf)\n",
        "[8](https://apps.dtic.mil/sti/tr/pdf/ADA196408.pdf)\n",
        "[9](https://orbi.uliege.be/bitstream/2268/771/1/BSjournal_BS08B001_final_SB081028.pdf)\n",
        "\n",
        "---\n",
        "\n",
        "### Steady state equations\n",
        "\n",
        "\\begin{align}\n",
        "T_z^\\star\n",
        "&=\\frac{UA\\,T_o\\;+\\;c_{pa}\\,m_{\\inf}\\,T_o\\;+\\;c_{pa}\\,m_{sa}\\,T_{sa}\\;+\\;Q_{bg}\\;+\\;f_c\\,q^{occ}_{sens}N}\n",
        "{UA\\;+\\;c_{pa}\\,(m_{sa}+m_{\\inf})}\\\\\n",
        "\\omega_z^\\star\n",
        "&=\\frac{m_{\\inf}\\,\\omega_o\\;+\\;m_{sa}\\,\\omega_{sa}\\;+\\;G_{bg}\\;+\\;g^{occ}_{v}N}\n",
        "{m_{sa}+m_{\\inf}}\\\\\n",
        "c_z^\\star\n",
        "&=\\frac{m_{\\inf}\\,c_o\\;+\\;m_{sa}\\,c_{sa}\\;+\\;g^{occ}_{CO2}N}\n",
        "{m_{sa}+m_{\\inf}}\n",
        "\\end{align}\n"
      ],
      "metadata": {
        "id": "J1m3PQZEiihj"
      }
    },
    {
      "cell_type": "code",
      "source": [],
      "metadata": {
        "id": "RorsiQ8d0x8w"
      },
      "execution_count": null,
      "outputs": []
    },
    {
      "cell_type": "markdown",
      "source": [
        "## Uncertainty Model"
      ],
      "metadata": {
        "id": "gaS9-hv00yOW"
      }
    },
    {
      "cell_type": "markdown",
      "metadata": {
        "id": "hXD9QF5V0yOW"
      },
      "source": [
        "Re-arranging the steady state equations we have\n",
        "\\begin{align}\n",
        "T_z^\\star\n",
        "&=\\frac{UA+{c_{pa}}m_{\\inf}}{UA+{c_{pa}}(m_{sa}+m_{\\inf})}\\,(T_o-T_{sa})\\;+\\;T_{sa}\\;+\\;\\frac{Q_{bg}\\;+\\;f_c\\,q^{occ}_{sens}N}{UA\\;+\\;c_{pa}\\,(m_{sa}+m_{\\inf})}\\\\\n",
        "\\omega_z^\\star\n",
        "&=\\frac{m_{inf}}{m_{sa}+m_{inf}}\\,(\\omega_o-\\omega_{sa})\\;+\\;\\omega_{sa}\\;+\\;\\frac{G_{bg}\\;+\\;g^{occ}_{v}N}{m_{sa}+m_{\\inf}}\\\\\n",
        "c_z^\\star\n",
        "&=\\frac{m_{inf}}{m_{sa}+m_{inf}}\\,(c_o-c_{sa})\\;+\\;c_{sa}\\;+\\;\\frac{g^{occ}_{CO2}N}\n",
        "{m_{sa}+m_{\\inf}}\n",
        "\\end{align}\n",
        "\n",
        "---\n",
        "\n",
        "Let\n",
        "\\begin{align}\n",
        "y\\triangleq &=\\begin{bmatrix}\n",
        "y_T \\\\   y_{\\omega}\\\\ y_{CO2}\n",
        "\\end{bmatrix}\n",
        "= \\begin{bmatrix}\n",
        "T_z^\\star\\\\\n",
        "\\omega_z^\\star\\\\\n",
        "c_z^\\star\n",
        "\\end{bmatrix}\n",
        "\\end{align}\n",
        "\n",
        "---\n",
        "\n",
        "\\begin{align}\n",
        "\\phi &= \\begin{bmatrix}\n",
        "(T_o - T_{sa}) & 1 & 0 & 0 & 0 \\\\\n",
        "0 & 0 & (\\omega_o - \\omega_{sa}) & 1 &0 \\\\\n",
        "0 & 0 & (c_o - c_{sa}) & 0 & 1\\\\\n",
        "\\end{bmatrix}\\\\\n",
        "\\beta &= \\begin{bmatrix}\n",
        "\\frac{UA+{c_{pa}}m_{\\inf}}{UA+{c_{pa}}(m_{sa}+m_{\\inf})} \\\\\n",
        "T_{sa}+\\frac{Q_{bg}\\;+\\;f_c\\,q^{occ}_{sens}N}{UA\\;+\\;c_{pa}\\,(m_{sa}+m_{\\inf})}\\\\\n",
        "\\frac{m_{inf}}{m_{sa}+m_{inf}}\\\\\n",
        "\\omega_{sa}\\;+\\;\\frac{G_{bg}\\;+\\;g^{occ}_{v}N}{m_{sa}+m_{\\inf}}\\\\\n",
        "c_{sa}\\;+\\;\\frac{g^{occ}_{CO2}N}\n",
        "{m_{sa}+m_{\\inf}}\n",
        "\\end{bmatrix}\n",
        "\\end{align}\n",
        "\n",
        "Note that the following inversion holds\n",
        "\n",
        "\\begin{align}\n",
        "m_{inf} &= \\frac{\\beta_{3}\\,m_{sa}}{1 - \\beta_{3}}\\\\\n",
        "UA  &= c_{pa}\\ m_{sa}\\left(\\frac{\\beta_{1}}{1 - \\beta_{1}}-\\frac{\\beta_{3}}{1 - \\beta_{3}}\\right)\\\\\n",
        "Q_{bg}\\;+\\;f_c\\,q^{occ}_{sens}N&=(\\beta_{2}-T_{sa})\\left(\\frac{c_{pa}\\ m_{sa}}{1 - \\beta_{1}}\\right)\\\\\n",
        "G_{bg} + g^{occ}_v N & = (\\beta_4 - \\omega_{sa})\\,\\frac{m_{sa}}{1 - \\beta_{3}}\\\\\n",
        "g^{occ}_{CO2} N &= (\\beta_5 - c_{sa})\\,\\frac{m_{sa}}{1 - \\beta_{3}}\n",
        "\\end{align}\n",
        "\n",
        "---\n",
        "\n",
        "\\begin{align}\n",
        "y = \\phi \\beta + \\epsilon, \\qquad \\epsilon \\sim \\mathscr{N}(0,\\Sigma_R)\n",
        "\\end{align}"
      ]
    },
    {
      "cell_type": "markdown",
      "source": [
        "##Modelling and Control"
      ],
      "metadata": {
        "id": "vWuZACtTKtul"
      }
    },
    {
      "cell_type": "markdown",
      "source": [
        "---\n",
        "\n",
        "Let\n",
        "\\begin{align}\n",
        "y_k\\triangleq &\\begin{bmatrix}\n",
        "y_{T,k} \\\\   y_{\\omega,k}\\\\ y_{CO2,k}\n",
        "\\end{bmatrix}\n",
        "= \\begin{bmatrix}\n",
        "T_{z,k}^\\star\\\\\n",
        "\\omega_{z,k}^\\star\\\\\n",
        "c_{z,k}^\\star\n",
        "\\end{bmatrix}\n",
        "\\end{align}\n",
        "\n",
        "---\n",
        "\n",
        "\\begin{align}\n",
        "\\phi_k &= \\begin{bmatrix}\n",
        "(T_{o,k} - T_{sa,k}) & 1 & 0 & 0 & 0 \\\\\n",
        "0 & 0 & (\\omega_{o,k} - \\omega_{sa,k}) & 1 &0 \\\\\n",
        "0 & 0 & (c_{o,k} - c_{sa,k}) & 0 & 1\\\\\n",
        "\\end{bmatrix}\n",
        "\\end{align}\n",
        "\n",
        "\n",
        "\\begin{align}\n",
        "\\beta_{k} & = \\beta_{k-1}+ w_k ,\\qquad\n",
        "w_k \\sim \\mathscr{N}(0,\\Sigma_P),\\\\\n",
        "y_k &= \\phi_k \\beta_k  +\\varepsilon_k,\\qquad\n",
        "\\varepsilon_k \\sim \\mathscr{N}(0,\\Sigma_R),\n",
        "\\end{align}\n",
        "where $(\\Sigma_R=\\operatorname{diag}(\\sigma_T^2,\\ \\sigma_\\omega^2,\\ \\sigma_c^2))$ are the (unknown) error variances for the three equations.\n",
        "\n",
        "---\n",
        "\n",
        "The Kalman filter\n",
        "\\begin{align}\n",
        "&\\text{Predict: } \\mu^-=\\mu_{k-1},\\ \\Sigma^-=\\Sigma_{k-1}+\\Sigma_P\\\\\n",
        "&\\text{Gain: } K_k=\\Sigma^- \\phi_k^\\top(\\phi_k\\Sigma^- \\phi_k^\\top+\\Sigma_R)^{-1}\\\\\n",
        "&\\text{Update: } \\mu_k=\\mu^- + K_k(y_k-\\phi_k\\mu^-),\\ \\Sigma_k=(I-K_k\\phi_k)\\Sigma^-.\n",
        "\\end{align}\n",
        "\n",
        "---\n",
        "\n",
        "\\begin{align}\n",
        "\\widehat{y}_k &\\triangleq \\phi_k\\mu_k\n",
        "\\end{align}\n",
        "\n",
        "Let\n",
        "\\begin{align}\n",
        "\\mu_k =\\begin{bmatrix}\\widehat{T}^\\star_{z,k}\\\\ \\widehat{\\omega}^\\star_{z,k}\\\\\\widehat{c}^\\star_{z,k}\n",
        "\\end{bmatrix}\n",
        "\\end{align}"
      ],
      "metadata": {
        "id": "hFcqeCpuLC6L"
      }
    },
    {
      "cell_type": "markdown",
      "source": [
        "Here are generalized expressions ** for an HVAC system with **air mixing, cooling/heating coil, and reheat**:\n",
        "\n",
        "***\n",
        "\n",
        "### **Air Mixing (Pre-coil)**\n",
        "Assume the air handler mixes **outdoor air (OA)** and **return air (RA)**:\n",
        "- $ m_{oa,k} $: outdoor air mass flow\n",
        "- $ m_{ra,k} $: return air mass flow\n",
        "- $ m_{ma,k} = m_{oa,k} +m_{ra,k}$: total mixed air mass flow\n",
        "\n",
        "The **mixed air properties** entering the coil are:\n",
        "\n",
        "\\begin{align}\n",
        "T_{ma,k} &= \\frac{m_{oa,k} T_{o,k} + m_{ra,k} T^\\star_{z,k}}{m_{ma,k}},\\\\\n",
        "\\omega_{ma,k} &= \\frac{m_{oa,k}\\omega_{o,k} + m_{ra,k}\\omega^\\star_{z,k}}{m_{ma,k}},\\\\\n",
        "c_{m,k} &= \\frac{m_{oa,k}c_{o,k} + m_{ra,k}c^\\star_{z,k}}{m_{ma,k}}\n",
        "\\end{align}\n",
        "\n",
        "Let $\\gamma_{m,k}=\\frac{m_{o,k}}{m_{oa,k}+m_{ra,k}}$ then\n",
        "\\begin{align}\n",
        "T_{ma,k} &= m_{ma,k}\\left(\\gamma_{m,k} T_{o,k} + (1-\\gamma_{m,k}) T^\\star_{z,k}\\right),\\\\\n",
        "\\omega_{ma,k} &= m_{ma,k}\\left(\\gamma_{m,k}\\omega_{o,k} + (1-\\gamma_{m,k})\\omega^\\star_{z,k}\\right),\\\\\n",
        "c_{ma,k} &= m_{ma,k}\\left(\\gamma_{m,k}c_{o,k} + (1-\\gamma_{m,k})c^\\star_{z,k}\\right)\n",
        "\\end{align}\n",
        "\n",
        "---\n",
        "\n",
        "\n",
        "\n",
        "### Sensible (Thermal) Energy Required by the Coil\n",
        "\n",
        "For each time step, the energy rate required to move the mixed air from **mixed condition ($T_{ma,k}$)** to the **coil outlet or supply air temperature (${T}_{sa,k+1}$)** is:\n",
        "\\begin{align}\n",
        "Q_{\\text{coil},k+1} = {m}_{ma,k} \\, c_{pa} |({T}_{\\text{sa},k+1} - T_{\\text{ma},k})|\n",
        "\\end{align}\n",
        "- ${T}_{\\text{sa},k+1}$: supply air temperature [°C] for the next step\n",
        "- $T_{\\text{ma},k}$: mixed air temperature entering coil [°C]\n",
        "\n",
        "***\n",
        "\n",
        "### Latent (Moisture) Energy Cost\n",
        "\n",
        "If moisture is **removed** (dehumidification by cooling coil):\n",
        "\\begin{align}\n",
        "Q_{\\text{latent},k} &= {m}_{ma,k} \\cdot h_{fg} \\cdot \\max(0, \\omega_{\\text{ma},k} - {\\omega}^\\star_{z,k+1})\n",
        "\\end{align}\n",
        "\n",
        "- $h_{fg}$: latent heat of vaporization (≈ 2,500,000 J/kg at room temperature)\n",
        "- $\\omega_{\\text{ma},k}$: mixed air humidity ratio (kg water/kg dry air)\n",
        "- ${\\omega}_{\\text{sa},k+1}$: supply air humidity ratio at the next step\n",
        "\n",
        "(Coils don't **add** moisture, so this term is only positive when $\\omega_{sa,k} < \\omega_{ma,k+1}$.)\n",
        "\n",
        "***\n",
        "\n",
        "### Combined Coil Power (Cooling or Heating)\n",
        "\n",
        "The **total coil load at time $k$** (assuming no reheat for simplicity) is:\n",
        "\\begin{align}\n",
        "Q_{\\text{coil,total},k+1} &= Q_{\\text{coil},k+1} + Q_{\\text{latent},k+1},\\\\\n",
        "&= {m}_{ma,k} \\left[c_{pa}|({T}_{\\text{sa},k+1} - T_{\\text{ma},k})| + h_{fg} \\cdot \\max(0, \\omega_{\\text{ma},k} - {\\omega}_{\\text{sa},k+1}) \\right]\\\\\n",
        "&= {m}_{ma,k} \\left[c_{pa}|\\left({T}_{\\text{sa},k+1} - \\left(\\gamma_{m,k} T_{o,k} + (1-\\gamma_{m,k}) T^\\star_{z,k}\\right)\\right)| + h_{fg} \\cdot \\max\\left(0, \\left(\\gamma_{m,k}\\omega_{o,k} + (1-\\gamma_{m,k})\\omega^\\star_{z,k}\\right) - {\\omega}_{\\text{sa},k+1}\\right) \\right]\n",
        "\\end{align}\n",
        "\n",
        "Substituting the Kalman filter estimate $\\mu_k$\n",
        "\\begin{align}\n",
        "\\widehat{Q}_{\\text{coil,total},k+1} &= {m}_{ma,k} \\left[c_{pa}|\\left({T}_{\\text{sa},k+1} - \\left(\\gamma_{m,k} T_{o,k} + (1-\\gamma_{m,k}) \\widehat{T}^\\star_{z,k}\\right)\\right)| + h_{fg} \\cdot \\max\\left(0, \\left(\\gamma_{m,k}\\omega_{o,k} + (1-\\gamma_{m,k})\\widehat{\\omega}^\\star_{z,k}\\right) - {\\omega}_{\\text{sa},k+1}\\right) \\right]\n",
        "\\end{align}\n",
        "\n",
        "The optimal control HVAC problem is to then find $(T_{sa,k+1},{\\omega}_{{sa},k+1})\\in D$ and $\\gamma_{m,k}\\in [0,1]$ such that $\\widehat{Q}_{\\text{coil,total},k+1}$ is minimized.\n",
        "\n",
        "***\n",
        "\n",
        "### Supply mass flowrate\n",
        "\n",
        "Predicted zone temperature and moisture at the next time step.\n",
        "\\begin{align}\n",
        "T^\\star_{z,k+1}\\approx \\beta_{1,k}(T_{o,k+1}-T_{sa,k+1})+\\beta_{2,k},\\\\\n",
        "\\omega^\\star_{z,k+1}\\approx \\beta_{3,k}(\\omega_{o,k+1}-\\omega_{sa,k+1})+\\beta_{4,k}\n",
        "\\end{align}\n",
        "\n",
        "* Check if $(T^\\star_{z,k+1},\\omega^\\star_{z,k+1})\\in D$\n",
        "* If not increase $m_{sa,k+1}$\n",
        "\n",
        "---\n",
        "\n",
        "### Distributed Control of Multi-zone HVAC Systems Considering Indoor Air Quality\n",
        "\n",
        "https://arxiv.org/pdf/2003.08208"
      ],
      "metadata": {
        "id": "JKbJrjDzx6OC"
      }
    },
    {
      "cell_type": "markdown",
      "source": [],
      "metadata": {
        "id": "L8jTE-j7bkSb"
      }
    }
  ]
}